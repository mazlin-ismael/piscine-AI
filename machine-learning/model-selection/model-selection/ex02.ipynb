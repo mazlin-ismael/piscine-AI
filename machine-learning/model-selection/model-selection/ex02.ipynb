{
 "cells": [
  {
   "cell_type": "code",
   "execution_count": 22,
   "id": "71d1f78b-e81c-4680-9199-c54492d90645",
   "metadata": {},
   "outputs": [],
   "source": [
    "# imports\n",
    "from sklearn.datasets import fetch_california_housing\n",
    "from sklearn.model_selection import train_test_split\n",
    "from sklearn.linear_model import LinearRegression\n",
    "from sklearn.preprocessing import StandardScaler\n",
    "from sklearn.impute import SimpleImputer\n",
    "from sklearn.pipeline import Pipeline\n",
    "\n",
    "from sklearn.model_selection import cross_validate"
   ]
  },
  {
   "cell_type": "code",
   "execution_count": 23,
   "id": "8d270447-6f41-4aad-a041-b558a3748cd8",
   "metadata": {},
   "outputs": [],
   "source": [
    "# data\n",
    "housing = fetch_california_housing()\n",
    "X, y = housing['data'], housing['target']"
   ]
  },
  {
   "cell_type": "code",
   "execution_count": 24,
   "id": "e7fb72f5-a709-469c-8de1-415ca252120a",
   "metadata": {},
   "outputs": [],
   "source": [
    "# split data train test\n",
    "X_train, X_test, y_train, y_test = train_test_split(\n",
    "    X, y,\n",
    "    test_size=0.1,\n",
    "    shuffle=True,\n",
    "    random_state=43\n",
    ")"
   ]
  },
  {
   "cell_type": "code",
   "execution_count": 25,
   "id": "7b79aeda-bb96-4b20-a0f9-959315fb7a37",
   "metadata": {},
   "outputs": [],
   "source": [
    "# pipeline\n",
    "pipeline = [('imputer', SimpleImputer(strategy='median')),\n",
    "            ('scaler', StandardScaler()),\n",
    "            ('lr', LinearRegression())]\n",
    "pipe = Pipeline(pipeline)"
   ]
  },
  {
   "cell_type": "code",
   "execution_count": 30,
   "id": "fdbf11b9-4bb2-46a5-a14e-e4809e018ff4",
   "metadata": {},
   "outputs": [],
   "source": [
    "cv_results = cross_validate(pipe, X_train, y_train, cv=10)"
   ]
  },
  {
   "cell_type": "code",
   "execution_count": 31,
   "id": "95c8fa18-ccb4-4d6f-8d6c-6cbd5c5d38c0",
   "metadata": {},
   "outputs": [
    {
     "data": {
      "text/plain": [
       "array([0.62433594, 0.61648956, 0.62486602, 0.59891024, 0.59284295,\n",
       "       0.61307055, 0.54630341, 0.60742976, 0.60014575, 0.59574508])"
      ]
     },
     "execution_count": 31,
     "metadata": {},
     "output_type": "execute_result"
    }
   ],
   "source": [
    "cv_results[\"test_score\"]"
   ]
  },
  {
   "cell_type": "code",
   "execution_count": 32,
   "id": "512349f1-1e48-487e-b22d-2f50884fee23",
   "metadata": {},
   "outputs": [
    {
     "data": {
      "text/plain": [
       "np.float64(0.60201392526743)"
      ]
     },
     "execution_count": 32,
     "metadata": {},
     "output_type": "execute_result"
    }
   ],
   "source": [
    "cv_results[\"test_score\"].mean()"
   ]
  },
  {
   "cell_type": "code",
   "execution_count": 33,
   "id": "e1f3424c-da9a-43ac-b7f6-153b37e41229",
   "metadata": {},
   "outputs": [
    {
     "data": {
      "text/plain": [
       "np.float64(0.021498382277346528)"
      ]
     },
     "execution_count": 33,
     "metadata": {},
     "output_type": "execute_result"
    }
   ],
   "source": [
    "cv_results[\"test_score\"].std()"
   ]
  }
 ],
 "metadata": {
  "kernelspec": {
   "display_name": "Python 3 (ipykernel)",
   "language": "python",
   "name": "python3"
  },
  "language_info": {
   "codemirror_mode": {
    "name": "ipython",
    "version": 3
   },
   "file_extension": ".py",
   "mimetype": "text/x-python",
   "name": "python",
   "nbconvert_exporter": "python",
   "pygments_lexer": "ipython3",
   "version": "3.13.4"
  }
 },
 "nbformat": 4,
 "nbformat_minor": 5
}
