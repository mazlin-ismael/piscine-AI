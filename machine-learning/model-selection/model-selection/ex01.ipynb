{
 "cells": [
  {
   "cell_type": "code",
   "execution_count": 14,
   "id": "dd553f1f-d37c-4389-a200-0da006aade58",
   "metadata": {},
   "outputs": [],
   "source": [
    "import numpy as np\n",
    "from sklearn.model_selection import KFold"
   ]
  },
  {
   "cell_type": "code",
   "execution_count": 15,
   "id": "ffc4e106-a13c-43ea-b12b-f16c4c7510a4",
   "metadata": {},
   "outputs": [],
   "source": [
    "X = np.array(np.arange(1,21).reshape(10,-1))\n",
    "y = np.array(np.arange(1,11))"
   ]
  },
  {
   "cell_type": "code",
   "execution_count": 16,
   "id": "5ef46e3f-5731-4301-949f-942206f8c43f",
   "metadata": {},
   "outputs": [
    {
     "name": "stdout",
     "output_type": "stream",
     "text": [
      "train:  [2 3 4 5 6 7 8 9]  test:  [0 1]\n",
      "train:  [0 1 4 5 6 7 8 9]  test:  [2 3]\n",
      "train:  [0 1 2 3 6 7 8 9]  test:  [4 5]\n",
      "train:  [0 1 2 3 4 5 8 9]  test:  [6 7]\n",
      "train:  [0 1 2 3 4 5 6 7]  test:  [8 9]\n"
     ]
    }
   ],
   "source": [
    "kf = KFold()\n",
    "\n",
    "for (train, test) in kf.split(X):\n",
    "    print(\"train: \", train, \" test: \", test)"
   ]
  }
 ],
 "metadata": {
  "kernelspec": {
   "display_name": "Python 3 (ipykernel)",
   "language": "python",
   "name": "python3"
  },
  "language_info": {
   "codemirror_mode": {
    "name": "ipython",
    "version": 3
   },
   "file_extension": ".py",
   "mimetype": "text/x-python",
   "name": "python",
   "nbconvert_exporter": "python",
   "pygments_lexer": "ipython3",
   "version": "3.13.4"
  }
 },
 "nbformat": 4,
 "nbformat_minor": 5
}
