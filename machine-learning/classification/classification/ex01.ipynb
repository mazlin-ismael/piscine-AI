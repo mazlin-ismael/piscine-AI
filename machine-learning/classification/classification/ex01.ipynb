{
 "cells": [
  {
   "cell_type": "code",
   "execution_count": 81,
   "id": "03db9f65-633c-4722-a932-5dc64630030b",
   "metadata": {},
   "outputs": [],
   "source": [
    "from sklearn.linear_model import LogisticRegression"
   ]
  },
  {
   "cell_type": "code",
   "execution_count": 82,
   "id": "c58d5e31-5666-4b98-bb3d-9e6df2f77336",
   "metadata": {},
   "outputs": [],
   "source": [
    "X = [[0],[0.1],[0.2], [1],[1.1],[1.2], [1.3]]\n",
    "y = [0,0,0,1,1,1,0]"
   ]
  },
  {
   "cell_type": "code",
   "execution_count": 83,
   "id": "b3d01923-ede7-4b68-b2ec-e5c173a91dc8",
   "metadata": {},
   "outputs": [],
   "source": [
    "log = LogisticRegression()\n",
    "x_pred = [[0.5]]"
   ]
  },
  {
   "cell_type": "code",
   "execution_count": 84,
   "id": "bcea42a4-6082-43b6-aa19-e2569ecbcf70",
   "metadata": {},
   "outputs": [
    {
     "data": {
      "text/plain": [
       "array([0])"
      ]
     },
     "execution_count": 84,
     "metadata": {},
     "output_type": "execute_result"
    }
   ],
   "source": [
    "log.fit(X, y)\n",
    "y_pred = log.predict(x_pred)\n",
    "y_pred"
   ]
  },
  {
   "cell_type": "code",
   "execution_count": 85,
   "id": "b5a6a932-3b16-4cfa-9ccd-0d907def6062",
   "metadata": {},
   "outputs": [
    {
     "data": {
      "text/plain": [
       "array([[0.61450206, 0.38549794]])"
      ]
     },
     "execution_count": 85,
     "metadata": {},
     "output_type": "execute_result"
    }
   ],
   "source": [
    "log.fit(X, y)\n",
    "y_pred = log.predict_proba(x_pred)\n",
    "y_pred"
   ]
  },
  {
   "cell_type": "code",
   "execution_count": 86,
   "id": "928961d0-ef52-495d-bd0e-c2aea0332a27",
   "metadata": {},
   "outputs": [
    {
     "name": "stdout",
     "output_type": "stream",
     "text": [
      "[[0.81793264]]\n",
      "[-0.87524276]\n"
     ]
    },
    {
     "data": {
      "text/plain": [
       "0.7142857142857143"
      ]
     },
     "execution_count": 86,
     "metadata": {},
     "output_type": "execute_result"
    }
   ],
   "source": [
    "print(log.coef_)\n",
    "print(log.intercept_)\n",
    "log.score(X, y)"
   ]
  }
 ],
 "metadata": {
  "kernelspec": {
   "display_name": "Python 3 (ipykernel)",
   "language": "python",
   "name": "python3"
  },
  "language_info": {
   "codemirror_mode": {
    "name": "ipython",
    "version": 3
   },
   "file_extension": ".py",
   "mimetype": "text/x-python",
   "name": "python",
   "nbconvert_exporter": "python",
   "pygments_lexer": "ipython3",
   "version": "3.13.2"
  }
 },
 "nbformat": 4,
 "nbformat_minor": 5
}
