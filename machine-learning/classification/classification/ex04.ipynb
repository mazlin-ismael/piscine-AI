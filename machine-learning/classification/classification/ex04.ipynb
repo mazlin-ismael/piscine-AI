{
 "cells": [
  {
   "cell_type": "code",
   "execution_count": 80,
   "id": "7eaf8301-cf38-4bd0-9a97-451e3ac6b0cb",
   "metadata": {},
   "outputs": [],
   "source": [
    "import numpy as np\n",
    "from sklearn.model_selection import train_test_split"
   ]
  },
  {
   "cell_type": "code",
   "execution_count": 81,
   "id": "40cdeb0a-d1a5-431f-9354-1472feebc1fc",
   "metadata": {},
   "outputs": [],
   "source": [
    "   X = np.arange(1,21).reshape(10,-1)\n",
    "   y = np.zeros(10)\n",
    "   y[7:] = 1"
   ]
  },
  {
   "cell_type": "code",
   "execution_count": 82,
   "id": "4fccf543-f7ea-4b48-840a-68ca36315325",
   "metadata": {},
   "outputs": [],
   "source": [
    "X_train, X_test, y_train, y_test = train_test_split(\n",
    "    X, y,\n",
    "    test_size=0.2,\n",
    "    shuffle=False,\n",
    ")"
   ]
  },
  {
   "cell_type": "code",
   "execution_count": 83,
   "id": "8577c149-2022-4716-b5e8-ba63aa7692ed",
   "metadata": {},
   "outputs": [
    {
     "name": "stdout",
     "output_type": "stream",
     "text": [
      "X_train:  [[ 1  2]\n",
      " [ 3  4]\n",
      " [ 5  6]\n",
      " [ 7  8]\n",
      " [ 9 10]\n",
      " [11 12]\n",
      " [13 14]\n",
      " [15 16]]\n",
      "y_train:  [0. 0. 0. 0. 0. 0. 0. 1.]\n",
      "X_test:  [[17 18]\n",
      " [19 20]]\n",
      "y_test: [1. 1.]\n"
     ]
    }
   ],
   "source": [
    "print(\"X_train: \", X_train)\n",
    "print(\"y_train: \", y_train)\n",
    "print(\"X_test: \", X_test)\n",
    "print(\"y_test:\", y_test)"
   ]
  },
  {
   "cell_type": "code",
   "execution_count": 84,
   "id": "61ae48a7-4890-4906-8bfe-779933f7ee39",
   "metadata": {},
   "outputs": [
    {
     "name": "stdout",
     "output_type": "stream",
     "text": [
      "0.125\n",
      "1.0\n"
     ]
    }
   ],
   "source": [
    "print(len(y_train[y_train == 1]) / len(X_train))\n",
    "print(len(y_test[y_test == 1]) / len(X_test))"
   ]
  },
  {
   "cell_type": "code",
   "execution_count": 85,
   "id": "0602b235-4059-4171-ada9-378dee5cb59b",
   "metadata": {},
   "outputs": [],
   "source": [
    "X1 = np.arange(1,201).reshape(100,-1)\n",
    "y1 = np.zeros(100)\n",
    "y1[70:] = 1"
   ]
  },
  {
   "cell_type": "code",
   "execution_count": 86,
   "id": "7f7e780a-790f-465d-b258-b4a17e36fc30",
   "metadata": {},
   "outputs": [],
   "source": [
    "X_train1, X_test1, y_train1, y_test1 = train_test_split(\n",
    "    X1, y1,\n",
    "    stratify=y1\n",
    ")"
   ]
  },
  {
   "cell_type": "code",
   "execution_count": 87,
   "id": "1a10ba7d-c834-4a55-9fce-f268a25b3b7f",
   "metadata": {},
   "outputs": [
    {
     "name": "stdout",
     "output_type": "stream",
     "text": [
      "0.29333333333333333\n",
      "0.32\n"
     ]
    }
   ],
   "source": [
    "print(len(y_train1[y_train1 == 1]) / len(X_train1))\n",
    "print(len(y_test1[y_test1 == 1]) / len(X_test1))"
   ]
  }
 ],
 "metadata": {
  "kernelspec": {
   "display_name": "Python 3 (ipykernel)",
   "language": "python",
   "name": "python3"
  },
  "language_info": {
   "codemirror_mode": {
    "name": "ipython",
    "version": 3
   },
   "file_extension": ".py",
   "mimetype": "text/x-python",
   "name": "python",
   "nbconvert_exporter": "python",
   "pygments_lexer": "ipython3",
   "version": "3.13.2"
  }
 },
 "nbformat": 4,
 "nbformat_minor": 5
}
