{
 "cells": [
  {
   "cell_type": "code",
   "execution_count": 229,
   "id": "3d678437-375d-4f04-aa36-40c2f95f5049",
   "metadata": {},
   "outputs": [],
   "source": [
    "from sklearn.datasets import load_iris\n",
    "from sklearn.model_selection import train_test_split\n",
    "from sklearn.linear_model import LogisticRegression\n",
    "from sklearn.multiclass import OneVsRestClassifier\n",
    "import pandas as pd\n",
    "import numpy as np"
   ]
  },
  {
   "cell_type": "code",
   "execution_count": 230,
   "id": "062c577d-bb33-4000-b4d5-d5f7bdb69046",
   "metadata": {},
   "outputs": [],
   "source": [
    "iris = load_iris()\n",
    "X = pd.DataFrame(data=iris['data'], columns=iris.feature_names)\n",
    "y = pd.DataFrame(data=iris['target'], columns=['target'])"
   ]
  },
  {
   "cell_type": "code",
   "execution_count": 231,
   "id": "95bd1c42-8f1f-482a-b210-c135c5cf711a",
   "metadata": {},
   "outputs": [],
   "source": [
    "X_train, X_test, y_train, y_test = train_test_split(\n",
    "    X, y, \n",
    "    shuffle=True, random_state=43, test_size=0.2,\n",
    ")"
   ]
  },
  {
   "cell_type": "code",
   "execution_count": 232,
   "id": "0d545b96-4cdd-4ddb-afc6-08391103e277",
   "metadata": {},
   "outputs": [],
   "source": [
    "def train(X_train, y_train):\n",
    "    clf0 = LogisticRegression()\n",
    "    clf1 = LogisticRegression()\n",
    "    clf2 = LogisticRegression()\n",
    "\n",
    "    clf0.fit(X_train, y_train == 0)\n",
    "    clf1.fit(X_train, y_train == 1)\n",
    "    clf2.fit(X_train, y_train == 2)\n",
    "\n",
    "    return clf0, clf1, clf2"
   ]
  },
  {
   "cell_type": "code",
   "execution_count": 233,
   "id": "a0d289b1-8cc5-4f1f-8529-072fc91a2f57",
   "metadata": {},
   "outputs": [],
   "source": [
    "clf0, clf1, clf2 = train(X_train, y_train[\"target\"])"
   ]
  },
  {
   "cell_type": "code",
   "execution_count": 234,
   "id": "73605f52-8f9e-4fdb-a341-a159a395da87",
   "metadata": {},
   "outputs": [],
   "source": [
    "def predict_one_vs_all(X, clf0, clf1, clf2):\n",
    "    p0 = clf0.predict_proba(X)[:, 1]\n",
    "    p1 = clf1.predict_proba(X)[:, 1]\n",
    "    p2 = clf2.predict_proba(X)[:, 1]\n",
    "    probs = np.vstack([p0, p1, p2]).T\n",
    "    \n",
    "    classes = np.argmax(probs, axis=1)\n",
    "    return classes"
   ]
  },
  {
   "cell_type": "code",
   "execution_count": 235,
   "id": "24709a85-57ba-444b-a57a-36dce0fde6a9",
   "metadata": {},
   "outputs": [
    {
     "data": {
      "text/plain": [
       "array([0, 0, 2, 1, 2, 0, 2, 1, 1, 1, 0, 1, 2, 0, 1, 1, 0, 0, 2, 2, 0, 0,\n",
       "       0, 2, 2, 2, 0, 1, 0, 0])"
      ]
     },
     "execution_count": 235,
     "metadata": {},
     "output_type": "execute_result"
    }
   ],
   "source": [
    "classes = predict_one_vs_all(X_test, clf0, clf1, clf2)\n",
    "classes"
   ]
  },
  {
   "cell_type": "code",
   "execution_count": 236,
   "id": "c6ad5524-1d8e-4202-a1d1-ddd349429c18",
   "metadata": {},
   "outputs": [
    {
     "data": {
      "text/plain": [
       "array([0, 0, 2, 1, 2, 0, 2, 1, 1, 1, 0, 1, 2, 0, 1, 1, 0, 0, 2, 2, 0, 0,\n",
       "       0, 2, 2, 2, 0, 1, 0, 0])"
      ]
     },
     "execution_count": 236,
     "metadata": {},
     "output_type": "execute_result"
    }
   ],
   "source": [
    "lr_ovr = OneVsRestClassifier(LogisticRegression())\n",
    "lr_ovr.fit(X_train, y_train[\"target\"])\n",
    "y_preds = lr_ovr.predict(X_test)\n",
    "y_preds"
   ]
  },
  {
   "cell_type": "code",
   "execution_count": 237,
   "id": "cebb1ab8-0d3c-460c-b561-7e603ae7cc7f",
   "metadata": {},
   "outputs": [
    {
     "data": {
      "text/plain": [
       "np.True_"
      ]
     },
     "execution_count": 237,
     "metadata": {},
     "output_type": "execute_result"
    }
   ],
   "source": [
    "np.all(classes == y_preds)"
   ]
  }
 ],
 "metadata": {
  "kernelspec": {
   "display_name": "Python 3 (ipykernel)",
   "language": "python",
   "name": "python3"
  },
  "language_info": {
   "codemirror_mode": {
    "name": "ipython",
    "version": 3
   },
   "file_extension": ".py",
   "mimetype": "text/x-python",
   "name": "python",
   "nbconvert_exporter": "python",
   "pygments_lexer": "ipython3",
   "version": "3.13.2"
  }
 },
 "nbformat": 4,
 "nbformat_minor": 5
}
