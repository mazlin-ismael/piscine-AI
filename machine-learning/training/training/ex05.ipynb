{
 "cells": [
  {
   "cell_type": "code",
   "execution_count": 87,
   "id": "343b1b07-f9f1-469a-8a45-37a4b1ff70e1",
   "metadata": {},
   "outputs": [],
   "source": [
    "# imports\n",
    "from sklearn.datasets import fetch_california_housing\n",
    "from sklearn.model_selection import train_test_split\n",
    "from sklearn.linear_model import LinearRegression\n",
    "from sklearn.preprocessing import StandardScaler\n",
    "from sklearn.impute import SimpleImputer\n",
    "from sklearn.pipeline import Pipeline\n",
    "\n",
    "from sklearn.svm import SVR\n",
    "from sklearn.tree import DecisionTreeRegressor\n",
    "from sklearn.ensemble import RandomForestRegressor, GradientBoostingRegressor\n",
    "\n",
    "from sklearn.metrics import r2_score, mean_squared_error, mean_absolute_error"
   ]
  },
  {
   "cell_type": "code",
   "execution_count": 88,
   "id": "4bb93f72-5f54-4acb-9e39-cf61f3bfd729",
   "metadata": {},
   "outputs": [],
   "source": [
    "# data\n",
    "housing = fetch_california_housing()\n",
    "X, y = housing['data'], housing['target']"
   ]
  },
  {
   "cell_type": "code",
   "execution_count": 89,
   "id": "bdc55b00-80b6-4214-9d82-73799bc52158",
   "metadata": {},
   "outputs": [],
   "source": [
    "# split data train test\n",
    "X_train, X_test, y_train, y_test = train_test_split(X,\n",
    "                                                    y,\n",
    "                                                    test_size=0.1,\n",
    "                                                    shuffle=True,\n",
    "                                                    random_state=43)"
   ]
  },
  {
   "cell_type": "code",
   "execution_count": 90,
   "id": "0490246e-4dde-4538-9522-d625889cfa1a",
   "metadata": {},
   "outputs": [
    {
     "name": "stdout",
     "output_type": "stream",
     "text": [
      "r2:  0.7295080649899692\n",
      "mse:  0.3477101776542994\n",
      "mae:  0.3897680598426782\n"
     ]
    }
   ],
   "source": [
    "scores(y_test, y_preds_svm)"
   ]
  },
  {
   "cell_type": "code",
   "execution_count": 91,
   "id": "81b730cd-3b6a-47f6-8812-2535424853ef",
   "metadata": {},
   "outputs": [],
   "source": [
    "def score(y_true, y_pred):\n",
    "    print(\"r2: \", r2_score(y_true, y_pred))\n",
    "    print(\"mae: \", mean_absolute_error(y_true, y_pred))\n",
    "    print(\"mse: \", mean_squared_error(y_true, y_pred))"
   ]
  },
  {
   "cell_type": "code",
   "execution_count": 104,
   "id": "19af2b94-f337-43bb-b811-501cda9a121d",
   "metadata": {},
   "outputs": [],
   "source": [
    "def def_pipe(model, title):\n",
    "    pipeline = [('imputer', SimpleImputer(strategy='median')),\n",
    "    ('scaler', StandardScaler()),\n",
    "    ('model', model)]\n",
    "    pipe = Pipeline(pipeline)\n",
    "    pipe.fit(X_train, y_train)\n",
    "\n",
    "    y_preds_test = pipe.predict(X_test)\n",
    "    y_preds_train = pipe.predict(X_train)\n",
    "\n",
    "    print(f\"{title}:\\n\")\n",
    "    print(\"Train: \\n\")\n",
    "    score(y_train, y_preds_train)\n",
    "    print(\"\\nTest: \\n\")\n",
    "    score(y_test, y_preds_test)"
   ]
  },
  {
   "cell_type": "code",
   "execution_count": 105,
   "id": "f432141d-1558-4d20-9e47-d3c41415b36e",
   "metadata": {},
   "outputs": [
    {
     "name": "stdout",
     "output_type": "stream",
     "text": [
      "Linear Regression:\n",
      "\n",
      "Train: \n",
      "\n",
      "r2:  0.6054131599242079\n",
      "mae:  0.533092001261455\n",
      "mse:  0.5273648371379568\n",
      "\n",
      "Test: \n",
      "\n",
      "r2:  0.6128959462132963\n",
      "mae:  0.5196420310323715\n",
      "mse:  0.49761195027083815\n"
     ]
    }
   ],
   "source": [
    "def_pipe(LinearRegression(), \"Linear Regression\")"
   ]
  },
  {
   "cell_type": "code",
   "execution_count": 106,
   "id": "6905c4dd-50be-4753-8d8a-71158aed43b7",
   "metadata": {},
   "outputs": [
    {
     "name": "stdout",
     "output_type": "stream",
     "text": [
      "SVM:\n",
      "\n",
      "Train: \n",
      "\n",
      "r2:  0.749610858293664\n",
      "mae:  0.38356451633259886\n",
      "mse:  0.3346447867133917\n",
      "\n",
      "Test: \n",
      "\n",
      "r2:  0.7295080649899692\n",
      "mae:  0.3897680598426782\n",
      "mse:  0.3477101776542994\n"
     ]
    }
   ],
   "source": [
    "def_pipe(SVR(), \"SVM\")"
   ]
  },
  {
   "cell_type": "code",
   "execution_count": 107,
   "id": "27f44305-0089-4d89-870f-e7b052cb5496",
   "metadata": {},
   "outputs": [
    {
     "name": "stdout",
     "output_type": "stream",
     "text": [
      "Decision Tree:\n",
      "\n",
      "Train: \n",
      "\n",
      "r2:  1.0\n",
      "mae:  4.221907539810565e-17\n",
      "mse:  9.24499456646287e-32\n",
      "\n",
      "Test: \n",
      "\n",
      "r2:  0.6228217144931267\n",
      "mae:  0.4403051356589147\n",
      "mse:  0.4848526395290697\n"
     ]
    }
   ],
   "source": [
    "def_pipe(DecisionTreeRegressor(random_state=43), \"Decision Tree\")"
   ]
  },
  {
   "cell_type": "code",
   "execution_count": 108,
   "id": "8b66ff7f-848c-42de-80f5-985df4a69b09",
   "metadata": {},
   "outputs": [
    {
     "name": "stdout",
     "output_type": "stream",
     "text": [
      "Random Forest:\n",
      "\n",
      "Train: \n",
      "\n",
      "r2:  0.9741263135396302\n",
      "mae:  0.12000198560508221\n",
      "mse:  0.03458015083247723\n",
      "\n",
      "Test: \n",
      "\n",
      "r2:  0.8119778189909694\n",
      "mae:  0.3194169859011629\n",
      "mse:  0.24169750554364758\n"
     ]
    }
   ],
   "source": [
    "def_pipe(RandomForestRegressor(random_state=43), \"Random Forest\")"
   ]
  },
  {
   "cell_type": "code",
   "execution_count": 109,
   "id": "f9cafc55-b031-456a-b16f-9a2b01d9d042",
   "metadata": {},
   "outputs": [
    {
     "name": "stdout",
     "output_type": "stream",
     "text": [
      "Gradient Boosting:\n",
      "\n",
      "Train: \n",
      "\n",
      "r2:  0.8042086499063386\n",
      "mae:  0.35656543036682264\n",
      "mse:  0.26167490389525294\n",
      "\n",
      "Test: \n",
      "\n",
      "r2:  0.7895081234643192\n",
      "mae:  0.36455447680396397\n",
      "mse:  0.27058170064218096\n"
     ]
    }
   ],
   "source": [
    "def_pipe(GradientBoostingRegressor(random_state=43), \"Gradient Boosting\")"
   ]
  }
 ],
 "metadata": {
  "kernelspec": {
   "display_name": "Python 3 (ipykernel)",
   "language": "python",
   "name": "python3"
  },
  "language_info": {
   "codemirror_mode": {
    "name": "ipython",
    "version": 3
   },
   "file_extension": ".py",
   "mimetype": "text/x-python",
   "name": "python",
   "nbconvert_exporter": "python",
   "pygments_lexer": "ipython3",
   "version": "3.13.4"
  }
 },
 "nbformat": 4,
 "nbformat_minor": 5
}
