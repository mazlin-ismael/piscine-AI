{
 "cells": [
  {
   "cell_type": "code",
   "execution_count": 166,
   "id": "538de830-85b0-4444-9ab6-e42f76635a18",
   "metadata": {},
   "outputs": [],
   "source": [
    "import matplotlib.pyplot as plt\n",
    "\n",
    "from sklearn.linear_model import LogisticRegression\n",
    "from sklearn.datasets import load_breast_cancer\n",
    "from sklearn.model_selection import train_test_split\n",
    "from sklearn.preprocessing import StandardScaler\n",
    "from sklearn.pipeline import Pipeline\n",
    "import numpy as np\n",
    "\n",
    "from sklearn.metrics import f1_score, accuracy_score, precision_score, recall_score, roc_auc_score, RocCurveDisplay\n",
    "from sklearn.metrics import confusion_matrix"
   ]
  },
  {
   "cell_type": "code",
   "execution_count": 167,
   "id": "a57db818-059a-4486-aefd-8be51fe3a515",
   "metadata": {},
   "outputs": [],
   "source": [
    "X, y = load_breast_cancer(return_X_y=True)"
   ]
  },
  {
   "cell_type": "code",
   "execution_count": 168,
   "id": "21a778ee-e342-4efd-82aa-e3be715bfa2f",
   "metadata": {},
   "outputs": [],
   "source": [
    "X_train, X_test, y_train, y_test = train_test_split(\n",
    "    X, y, test_size=0.20, random_state=43)"
   ]
  },
  {
   "cell_type": "code",
   "execution_count": 169,
   "id": "4ba56526-878a-45a4-8456-7e7d205e3bde",
   "metadata": {},
   "outputs": [],
   "source": [
    "scaler = StandardScaler()\n",
    "#X_train_scaled = scaler.fit_transform(X_train)"
   ]
  },
  {
   "cell_type": "code",
   "execution_count": 170,
   "id": "3c405d0e-3426-414b-834d-2058a5eca6cd",
   "metadata": {},
   "outputs": [],
   "source": [
    "classifier = LogisticRegression()\n",
    "#classifier.fit(X_train_scaled, y_train)"
   ]
  },
  {
   "cell_type": "code",
   "execution_count": 171,
   "id": "bd13ed52-8f00-47f0-a4f8-b404a6e28280",
   "metadata": {},
   "outputs": [
    {
     "data": {
      "text/plain": [
       "(array([1, 0, 1, 1, 1, 0, 0, 1, 1, 0]), array([1, 1, 0, 0, 0, 1, 1, 1, 0, 0]))"
      ]
     },
     "execution_count": 171,
     "metadata": {},
     "output_type": "execute_result"
    }
   ],
   "source": [
    "pipe = Pipeline([\n",
    "    (\"scaler\", scaler),\n",
    "    (\"classifier\", classifier)\n",
    "])\n",
    "pipe.fit(X_train, y_train)\n",
    "y_train_preds = pipe.predict(X_train)\n",
    "y_test_preds = pipe.predict(X_test)\n",
    "\n",
    "y_train_probs = pipe.predict_proba(X_train)[:, 1]\n",
    "y_test_probs =  pipe.predict_proba(X_test)[:, 1]\n",
    "y_train_preds[:10], y_test_preds[:10]"
   ]
  },
  {
   "cell_type": "code",
   "execution_count": 172,
   "id": "513330e5-c38a-4534-b20d-23b9bc638d2a",
   "metadata": {},
   "outputs": [],
   "source": [
    "def score(y_true, y_pred, y_probs):\n",
    "    print(\"f1:\", f1_score(y_true, y_pred))\n",
    "    print(\"accuracy:\", accuracy_score(y_true, y_pred))\n",
    "    print(\"precison:\", precision_score(y_true, y_pred))\n",
    "    print(\"recall:\", recall_score(y_true, y_pred))\n",
    "    print(\"roc_auc:\", roc_auc_score(y_true, y_probs))"
   ]
  },
  {
   "cell_type": "code",
   "execution_count": 173,
   "id": "2048670e-1d0b-48b6-95f0-64aeb75e3705",
   "metadata": {},
   "outputs": [
    {
     "name": "stdout",
     "output_type": "stream",
     "text": [
      "f1: 0.9911504424778761\n",
      "accuracy: 0.989010989010989\n",
      "precison: 0.9893992932862191\n",
      "recall: 0.9929078014184397\n",
      "roc_auc: 0.998995613495675\n"
     ]
    }
   ],
   "source": [
    "score(y_train, y_train_preds, y_train_probs)"
   ]
  },
  {
   "cell_type": "code",
   "execution_count": 174,
   "id": "d73e4cde-ef82-4129-a753-beaf56adf8b2",
   "metadata": {},
   "outputs": [
    {
     "name": "stdout",
     "output_type": "stream",
     "text": [
      "f1: 0.9801324503311258\n",
      "accuracy: 0.9736842105263158\n",
      "precison: 0.9736842105263158\n",
      "recall: 0.9866666666666667\n",
      "roc_auc: 0.9863247863247864\n"
     ]
    }
   ],
   "source": [
    "score(y_test, y_test_preds, y_test_probs)"
   ]
  },
  {
   "cell_type": "code",
   "execution_count": 175,
   "id": "89b92011-948a-4fcb-af22-4e32883de8fb",
   "metadata": {},
   "outputs": [
    {
     "data": {
      "text/plain": [
       "array([[37,  2],\n",
       "       [ 1, 74]])"
      ]
     },
     "execution_count": 175,
     "metadata": {},
     "output_type": "execute_result"
    }
   ],
   "source": [
    "confusion_matrix(y_test, y_test_preds)"
   ]
  },
  {
   "cell_type": "code",
   "execution_count": 181,
   "id": "40c2a6d3-fdf9-48b8-859a-c039de087bd8",
   "metadata": {},
   "outputs": [
    {
     "data": {
      "image/png": "[encoded data removed]",
      "text/plain": [
       "<Figure size 640x480 with 1 Axes>"
      ]
     },
     "metadata": {},
     "output_type": "display_data"
    }
   ],
   "source": [
    "RocCurveDisplay.from_predictions(y_test, y_test_probs)\n",
    "plt.show()"
   ]
  }
 ],
 "metadata": {
  "kernelspec": {
   "display_name": "Python 3 (ipykernel)",
   "language": "python",
   "name": "python3"
  },
  "language_info": {
   "codemirror_mode": {
    "name": "ipython",
    "version": 3
   },
   "file_extension": ".py",
   "mimetype": "text/x-python",
   "name": "python",
   "nbconvert_exporter": "python",
   "pygments_lexer": "ipython3",
   "version": "3.13.4"
  }
 },
 "nbformat": 4,
 "nbformat_minor": 5
}
