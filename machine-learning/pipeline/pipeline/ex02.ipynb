{
 "cells": [
  {
   "cell_type": "code",
   "execution_count": 63,
   "id": "70a01987-8030-42a6-9890-1218d58dde75",
   "metadata": {},
   "outputs": [],
   "source": [
    "import numpy as np\n",
    "from sklearn.preprocessing import StandardScaler"
   ]
  },
  {
   "cell_type": "code",
   "execution_count": 64,
   "id": "28c34faa-771a-43c1-a499-e9e6cbea75cc",
   "metadata": {},
   "outputs": [],
   "source": [
    "X_train = np.array([[ 1., -1.,  2.],\n",
    "                     [ 2.,  0.,  0.],\n",
    "                     [ 0.,  1., -1.]])\n",
    "X_test = np.array([[ 2., -1.,  1.],\n",
    "                     [ 3.,  3.,  -1.],\n",
    "                     [ 1.,  1., 1.]])"
   ]
  },
  {
   "cell_type": "code",
   "execution_count": 65,
   "id": "fb4eef5b-76d3-4b32-9d81-4303cb4e7761",
   "metadata": {},
   "outputs": [
    {
     "data": {
      "text/plain": [
       "array([[ 0.        , -1.22474487,  1.33630621],\n",
       "       [ 1.22474487,  0.        , -0.26726124],\n",
       "       [-1.22474487,  1.22474487, -1.06904497]])"
      ]
     },
     "execution_count": 65,
     "metadata": {},
     "output_type": "execute_result"
    }
   ],
   "source": [
    "scaler = StandardScaler()\n",
    "X_train_transform = scaler.fit_transform(X_train)\n",
    "X_train_transform"
   ]
  },
  {
   "cell_type": "code",
   "execution_count": 66,
   "id": "ad684438-70db-403c-9e64-6e28628308ba",
   "metadata": {},
   "outputs": [
    {
     "data": {
      "text/plain": [
       "array([0., 0., 0.])"
      ]
     },
     "execution_count": 66,
     "metadata": {},
     "output_type": "execute_result"
    }
   ],
   "source": [
    "np.mean(X_train_transform, axis=0)"
   ]
  },
  {
   "cell_type": "code",
   "execution_count": 67,
   "id": "d01d6b7a-e34e-41c2-a8c0-fcf70023bbbf",
   "metadata": {},
   "outputs": [
    {
     "data": {
      "text/plain": [
       "array([1., 1., 1.])"
      ]
     },
     "execution_count": 67,
     "metadata": {},
     "output_type": "execute_result"
    }
   ],
   "source": [
    "np.std(X_train_transform, axis=0)"
   ]
  },
  {
   "cell_type": "code",
   "execution_count": 68,
   "id": "08591f34-094b-4df5-847f-0ed344c3e2e1",
   "metadata": {},
   "outputs": [
    {
     "data": {
      "text/plain": [
       "array([[ 1.22474487, -1.22474487,  0.53452248],\n",
       "       [ 2.44948974,  3.67423461, -1.06904497],\n",
       "       [ 0.        ,  1.22474487,  0.53452248]])"
      ]
     },
     "execution_count": 68,
     "metadata": {},
     "output_type": "execute_result"
    }
   ],
   "source": [
    "scaler.transform(X_test)"
   ]
  }
 ],
 "metadata": {
  "kernelspec": {
   "display_name": "Python 3 (ipykernel)",
   "language": "python",
   "name": "python3"
  },
  "language_info": {
   "codemirror_mode": {
    "name": "ipython",
    "version": 3
   },
   "file_extension": ".py",
   "mimetype": "text/x-python",
   "name": "python",
   "nbconvert_exporter": "python",
   "pygments_lexer": "ipython3",
   "version": "3.13.2"
  }
 },
 "nbformat": 4,
 "nbformat_minor": 5
}
