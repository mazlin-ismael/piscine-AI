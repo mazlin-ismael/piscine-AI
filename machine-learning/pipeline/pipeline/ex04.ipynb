{
 "cells": [
  {
   "cell_type": "code",
   "execution_count": 116,
   "id": "1afbe527-3145-469c-b7ca-8d14e1115c30",
   "metadata": {},
   "outputs": [],
   "source": [
    "from sklearn.preprocessing import OrdinalEncoder"
   ]
  },
  {
   "cell_type": "code",
   "execution_count": 117,
   "id": "274f50f3-b02f-4fe6-b0b8-e4a7a23e67ad",
   "metadata": {},
   "outputs": [],
   "source": [
    "X_train = [['good'], ['bad'], ['neutral']]\n",
    "X_test = [['good'], ['good'], ['bad']]"
   ]
  },
  {
   "cell_type": "code",
   "execution_count": 118,
   "id": "000f1f0e-32ac-43d3-b89c-8091383b140d",
   "metadata": {},
   "outputs": [
    {
     "data": {
      "text/plain": [
       "array([[2.],\n",
       "       [0.],\n",
       "       [1.]])"
      ]
     },
     "execution_count": 118,
     "metadata": {},
     "output_type": "execute_result"
    }
   ],
   "source": [
    "enc = OrdinalEncoder(categories=[[\"bad\", \"neutral\", \"good\"]])\n",
    "enc.fit(X_train)\n",
    "enc.transform(X_train)"
   ]
  },
  {
   "cell_type": "code",
   "execution_count": 119,
   "id": "95195a7e-fbe2-4c18-bdbe-02009fb38c62",
   "metadata": {},
   "outputs": [
    {
     "data": {
      "text/plain": [
       "[array(['bad', 'neutral', 'good'], dtype=object)]"
      ]
     },
     "execution_count": 119,
     "metadata": {},
     "output_type": "execute_result"
    }
   ],
   "source": [
    "enc.categories_"
   ]
  },
  {
   "cell_type": "code",
   "execution_count": 120,
   "id": "20048299-a56b-4d09-8019-5547b78ddf53",
   "metadata": {},
   "outputs": [
    {
     "data": {
      "text/plain": [
       "array([[2.],\n",
       "       [2.],\n",
       "       [0.]])"
      ]
     },
     "execution_count": 120,
     "metadata": {},
     "output_type": "execute_result"
    }
   ],
   "source": [
    "enc.transform(X_test)"
   ]
  }
 ],
 "metadata": {
  "kernelspec": {
   "display_name": "Python 3 (ipykernel)",
   "language": "python",
   "name": "python3"
  },
  "language_info": {
   "codemirror_mode": {
    "name": "ipython",
    "version": 3
   },
   "file_extension": ".py",
   "mimetype": "text/x-python",
   "name": "python",
   "nbconvert_exporter": "python",
   "pygments_lexer": "ipython3",
   "version": "3.13.2"
  }
 },
 "nbformat": 4,
 "nbformat_minor": 5
}
