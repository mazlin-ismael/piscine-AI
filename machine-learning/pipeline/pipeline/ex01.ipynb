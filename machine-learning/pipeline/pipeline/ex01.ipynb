{
 "cells": [
  {
   "cell_type": "code",
   "execution_count": 35,
   "id": "e23e83ca-eb80-4ab5-805a-7df14760535c",
   "metadata": {},
   "outputs": [],
   "source": [
    "import numpy as np\n",
    "from sklearn.impute import SimpleImputer"
   ]
  },
  {
   "cell_type": "code",
   "execution_count": 36,
   "id": "7469ef22-90b0-4b4c-8591-6051337fe1d0",
   "metadata": {},
   "outputs": [],
   "source": [
    "train_data = [[7, 6, 5],\n",
    "              [4, np.nan, 5],\n",
    "              [1, 20, 8]]\n",
    "test_data = [[np.nan, 1, 2],\n",
    "             [7, np.nan, 9],\n",
    "             [np.nan, 2, 4]]"
   ]
  },
  {
   "cell_type": "code",
   "execution_count": 37,
   "id": "9facf39f-ebd2-4406-944e-b3dc027d6fac",
   "metadata": {},
   "outputs": [
    {
     "name": "stdout",
     "output_type": "stream",
     "text": [
      "[ 4. 13.  6.] \n",
      "\n"
     ]
    },
    {
     "data": {
      "text/plain": [
       "np.True_"
      ]
     },
     "execution_count": 37,
     "metadata": {},
     "output_type": "execute_result"
    }
   ],
   "source": [
    "imp_mean = SimpleImputer()\n",
    "imp_mean.fit(train_data)\n",
    "print(imp_mean.statistics_, \"\\n\")\n",
    "np.all(imp_mean.statistics_ == np.nanmean(train_data, axis=0))"
   ]
  },
  {
   "cell_type": "code",
   "execution_count": 38,
   "id": "146edecb-71a2-4157-98c4-d07f8f9acb54",
   "metadata": {},
   "outputs": [
    {
     "name": "stdout",
     "output_type": "stream",
     "text": [
      "[[ 7.  6.  5.]\n",
      " [ 4. 13.  5.]\n",
      " [ 1. 20.  8.]] \n",
      "\n"
     ]
    },
    {
     "data": {
      "text/plain": [
       "array([[ 4.,  1.,  2.],\n",
       "       [ 7., 13.,  9.],\n",
       "       [ 4.,  2.,  4.]])"
      ]
     },
     "execution_count": 38,
     "metadata": {},
     "output_type": "execute_result"
    }
   ],
   "source": [
    "print(imp_mean.transform(train_data), \"\\n\")\n",
    "imp_mean.transform(test_data)"
   ]
  }
 ],
 "metadata": {
  "kernelspec": {
   "display_name": "Python 3 (ipykernel)",
   "language": "python",
   "name": "python3"
  },
  "language_info": {
   "codemirror_mode": {
    "name": "ipython",
    "version": 3
   },
   "file_extension": ".py",
   "mimetype": "text/x-python",
   "name": "python",
   "nbconvert_exporter": "python",
   "pygments_lexer": "ipython3",
   "version": "3.13.2"
  }
 },
 "nbformat": 4,
 "nbformat_minor": 5
}
