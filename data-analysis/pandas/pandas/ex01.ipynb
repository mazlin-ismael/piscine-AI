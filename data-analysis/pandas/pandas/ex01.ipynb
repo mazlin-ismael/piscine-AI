{
 "cells": [
  {
   "cell_type": "code",
   "execution_count": 85,
   "id": "d4deb2ab-cccb-4ca1-be75-33e372f0a836",
   "metadata": {},
   "outputs": [],
   "source": [
    "import pandas as pd\n",
    "import numpy as np"
   ]
  },
  {
   "cell_type": "code",
   "execution_count": 86,
   "id": "8debb295-ddd7-48f3-bc75-0dc6ef1b0ee6",
   "metadata": {},
   "outputs": [],
   "source": [
    "np_array = np.array(([\"Blue\", [1, 2], 1.1], \n",
    "          [\"Red\", [3, 4], 2.2], \n",
    "          [\"Pink\", [5, 6], 3.3], \n",
    "          [\"Gray\", [7, 8], 4.4],\n",
    "          [\"Black\", [9, 10], 5.5]), dtype=list)"
   ]
  },
  {
   "cell_type": "code",
   "execution_count": 87,
   "id": "ac119bb1-9aff-49a1-8d97-2d17f20b47d6",
   "metadata": {},
   "outputs": [
    {
     "data": {
      "text/html": [
       "<div>\n",
       "<style scoped>\n",
       "    .dataframe tbody tr th:only-of-type {\n",
       "        vertical-align: middle;\n",
       "    }\n",
       "\n",
       "    .dataframe tbody tr th {\n",
       "        vertical-align: top;\n",
       "    }\n",
       "\n",
       "    .dataframe thead th {\n",
       "        text-align: right;\n",
       "    }\n",
       "</style>\n",
       "<table border=\"1\" class=\"dataframe\">\n",
       "  <thead>\n",
       "    <tr style=\"text-align: right;\">\n",
       "      <th></th>\n",
       "      <th>color</th>\n",
       "      <th>list</th>\n",
       "      <th>number</th>\n",
       "    </tr>\n",
       "  </thead>\n",
       "  <tbody>\n",
       "    <tr>\n",
       "      <th>1</th>\n",
       "      <td>Blue</td>\n",
       "      <td>[1, 2]</td>\n",
       "      <td>1.1</td>\n",
       "    </tr>\n",
       "    <tr>\n",
       "      <th>3</th>\n",
       "      <td>Red</td>\n",
       "      <td>[3, 4]</td>\n",
       "      <td>2.2</td>\n",
       "    </tr>\n",
       "    <tr>\n",
       "      <th>5</th>\n",
       "      <td>Pink</td>\n",
       "      <td>[5, 6]</td>\n",
       "      <td>3.3</td>\n",
       "    </tr>\n",
       "    <tr>\n",
       "      <th>7</th>\n",
       "      <td>Gray</td>\n",
       "      <td>[7, 8]</td>\n",
       "      <td>4.4</td>\n",
       "    </tr>\n",
       "    <tr>\n",
       "      <th>9</th>\n",
       "      <td>Black</td>\n",
       "      <td>[9, 10]</td>\n",
       "      <td>5.5</td>\n",
       "    </tr>\n",
       "  </tbody>\n",
       "</table>\n",
       "</div>"
      ],
      "text/plain": [
       "   color     list number\n",
       "1   Blue   [1, 2]    1.1\n",
       "3    Red   [3, 4]    2.2\n",
       "5   Pink   [5, 6]    3.3\n",
       "7   Gray   [7, 8]    4.4\n",
       "9  Black  [9, 10]    5.5"
      ]
     },
     "execution_count": 87,
     "metadata": {},
     "output_type": "execute_result"
    }
   ],
   "source": [
    "np_df = pd.DataFrame(np_array, columns=[\"color\", \"list\", \"number\"], index=[1, 3, 5, 7, 9])\n",
    "np_df"
   ]
  },
  {
   "cell_type": "code",
   "execution_count": 88,
   "id": "642dc5c7-69f9-407a-a72d-27cdaae4ec26",
   "metadata": {},
   "outputs": [
    {
     "data": {
      "text/html": [
       "<div>\n",
       "<style scoped>\n",
       "    .dataframe tbody tr th:only-of-type {\n",
       "        vertical-align: middle;\n",
       "    }\n",
       "\n",
       "    .dataframe tbody tr th {\n",
       "        vertical-align: top;\n",
       "    }\n",
       "\n",
       "    .dataframe thead th {\n",
       "        text-align: right;\n",
       "    }\n",
       "</style>\n",
       "<table border=\"1\" class=\"dataframe\">\n",
       "  <thead>\n",
       "    <tr style=\"text-align: right;\">\n",
       "      <th></th>\n",
       "      <th>color</th>\n",
       "      <th>list</th>\n",
       "      <th>number</th>\n",
       "    </tr>\n",
       "  </thead>\n",
       "  <tbody>\n",
       "    <tr>\n",
       "      <th>1</th>\n",
       "      <td>Blue</td>\n",
       "      <td>[1, 2]</td>\n",
       "      <td>1.1</td>\n",
       "    </tr>\n",
       "    <tr>\n",
       "      <th>3</th>\n",
       "      <td>Blue</td>\n",
       "      <td>[3, 4]</td>\n",
       "      <td>2.2</td>\n",
       "    </tr>\n",
       "    <tr>\n",
       "      <th>5</th>\n",
       "      <td>Pink</td>\n",
       "      <td>[5, 6]</td>\n",
       "      <td>3.3</td>\n",
       "    </tr>\n",
       "    <tr>\n",
       "      <th>7</th>\n",
       "      <td>Gray</td>\n",
       "      <td>[7, 8]</td>\n",
       "      <td>4.4</td>\n",
       "    </tr>\n",
       "    <tr>\n",
       "      <th>9</th>\n",
       "      <td>Black</td>\n",
       "      <td>[9, 10]</td>\n",
       "      <td>5.5</td>\n",
       "    </tr>\n",
       "  </tbody>\n",
       "</table>\n",
       "</div>"
      ],
      "text/plain": [
       "   color     list  number\n",
       "1   Blue   [1, 2]     1.1\n",
       "3   Blue   [3, 4]     2.2\n",
       "5   Pink   [5, 6]     3.3\n",
       "7   Gray   [7, 8]     4.4\n",
       "9  Black  [9, 10]     5.5"
      ]
     },
     "execution_count": 88,
     "metadata": {},
     "output_type": "execute_result"
    }
   ],
   "source": [
    "color_serie = pd.Series([\"Blue\", \"Blue\", \"Pink\", \"Gray\", \"Black\"], name=\"color\", index=[1, 3, 5, 7, 9])\n",
    "list_serie = pd.Series([[1, 2], [3, 4], [5, 6], [7, 8], [9, 10]], name=\"list\", index=[1, 3, 5, 7, 9])\n",
    "number_serie = pd.Series([1.1, 2.2, 3.3, 4.4, 5.5], name=\"number\", index=[1, 3, 5, 7, 9])\n",
    "pd_df = pd.DataFrame({\n",
    "    color_serie.name: color_serie, \n",
    "    list_serie.name: list_serie,\n",
    "    number_serie.name: number_serie\n",
    "})\n",
    "pd_df"
   ]
  },
  {
   "cell_type": "code",
   "execution_count": 89,
   "id": "2ed8ec55-a5ac-4374-849d-921263be2db4",
   "metadata": {},
   "outputs": [
    {
     "name": "stdout",
     "output_type": "stream",
     "text": [
      "<class 'pandas.core.series.Series'>\n",
      "<class 'pandas.core.series.Series'>\n",
      "<class 'pandas.core.series.Series'>\n"
     ]
    }
   ],
   "source": [
    "for col in pd_df.columns:\n",
    "    print(type(pd_df[col]))"
   ]
  },
  {
   "cell_type": "code",
   "execution_count": 90,
   "id": "fa707d32-8836-4150-9314-dd977a72594a",
   "metadata": {},
   "outputs": [
    {
     "name": "stdout",
     "output_type": "stream",
     "text": [
      "<class 'str'>\n",
      "<class 'list'>\n",
      "<class 'numpy.float64'>\n"
     ]
    }
   ],
   "source": [
    "for col in pd_df.columns:\n",
    "    print(type(pd_df[col].iloc[0]))"
   ]
  }
 ],
 "metadata": {
  "kernelspec": {
   "display_name": "Python 3 (ipykernel)",
   "language": "python",
   "name": "python3"
  },
  "language_info": {
   "codemirror_mode": {
    "name": "ipython",
    "version": 3
   },
   "file_extension": ".py",
   "mimetype": "text/x-python",
   "name": "python",
   "nbconvert_exporter": "python",
   "pygments_lexer": "ipython3",
   "version": "3.13.2"
  }
 },
 "nbformat": 4,
 "nbformat_minor": 5
}
