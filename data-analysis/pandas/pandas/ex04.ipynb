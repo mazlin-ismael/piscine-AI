{
 "cells": [
  {
   "cell_type": "code",
   "execution_count": 25,
   "id": "18494c55-baaa-488c-a9bf-df54ebb54cd1",
   "metadata": {},
   "outputs": [],
   "source": [
    "import pandas as pd\n",
    "import numpy as np"
   ]
  },
  {
   "cell_type": "code",
   "execution_count": 26,
   "id": "3956d74d-a35f-45bf-9c38-afeb725c3f38",
   "metadata": {},
   "outputs": [
    {
     "data": {
      "text/plain": [
       "sepal_length    float64\n",
       "sepal_width     float64\n",
       "petal_length    float64\n",
       "petal_width     float64\n",
       "dtype: object"
      ]
     },
     "execution_count": 26,
     "metadata": {},
     "output_type": "execute_result"
    }
   ],
   "source": [
    "df = pd.read_csv(\"iris.csv\", \n",
    "    usecols=[\"sepal_length\", \"sepal_width\" , \"petal_length\", \"petal_width\"]\n",
    ").apply(pd.to_numeric, errors=\"coerce\")\n",
    "df.dtypes"
   ]
  },
  {
   "cell_type": "code",
   "execution_count": 27,
   "id": "8f41f4e3-ba5d-4b49-847c-43a082e9b5ff",
   "metadata": {},
   "outputs": [
    {
     "data": {
      "text/plain": [
       "sepal_length    float64\n",
       "sepal_width     float64\n",
       "petal_length    float64\n",
       "petal_width     float64\n",
       "dtype: object"
      ]
     },
     "execution_count": 27,
     "metadata": {},
     "output_type": "execute_result"
    }
   ],
   "source": [
    "df = df.apply(pd.to_numeric, errors=\"coerce\")\n",
    "df.dtypes"
   ]
  },
  {
   "cell_type": "code",
   "execution_count": 30,
   "id": "84305e52-fec6-4934-96fc-a9ca59d6b5e8",
   "metadata": {},
   "outputs": [],
   "source": [
    "sepal_length_mean = df[\"sepal_length\"].mean()\n",
    "sepal_width_median =  df[\"sepal_width\"].median()\n",
    "\n",
    "df[\"sepal_length\"] = df[\"sepal_length\"].fillna(sepal_length_mean)\n",
    "df[\"sepal_width\"] = df[\"sepal_width\"].fillna(sepal_width_median)\n",
    "df[[\"petal_length\", \"petal_width\"]] = df[[\"petal_length\", \"petal_width\"]].fillna(0)"
   ]
  },
  {
   "cell_type": "code",
   "execution_count": null,
   "id": "2740d56c-ead1-4a8d-9a22-2c4c92c20436",
   "metadata": {},
   "outputs": [],
   "source": []
  }
 ],
 "metadata": {
  "kernelspec": {
   "display_name": "Python 3 (ipykernel)",
   "language": "python",
   "name": "python3"
  },
  "language_info": {
   "codemirror_mode": {
    "name": "ipython",
    "version": 3
   },
   "file_extension": ".py",
   "mimetype": "text/x-python",
   "name": "python",
   "nbconvert_exporter": "python",
   "pygments_lexer": "ipython3",
   "version": "3.13.2"
  }
 },
 "nbformat": 4,
 "nbformat_minor": 5
}
