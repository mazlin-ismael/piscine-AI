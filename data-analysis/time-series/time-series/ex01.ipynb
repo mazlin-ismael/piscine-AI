{
 "cells": [
  {
   "cell_type": "code",
   "execution_count": 99,
   "id": "04e2266a-8427-4486-af22-63e6df9e518e",
   "metadata": {},
   "outputs": [],
   "source": [
    "import pandas as pd"
   ]
  },
  {
   "cell_type": "code",
   "execution_count": 100,
   "id": "c6d9eeb9-35dc-426d-9afc-51e0e620a129",
   "metadata": {},
   "outputs": [
    {
     "data": {
      "text/plain": [
       "Date\n",
       "2010-01-01       0\n",
       "2010-01-02       1\n",
       "2010-01-03       2\n",
       "2010-01-04       3\n",
       "2010-01-05       4\n",
       "              ... \n",
       "2020-12-27    4013\n",
       "2020-12-28    4014\n",
       "2020-12-29    4015\n",
       "2020-12-30    4016\n",
       "2020-12-31    4017\n",
       "Freq: D, Length: 4018, dtype: int64"
      ]
     },
     "execution_count": 100,
     "metadata": {},
     "output_type": "execute_result"
    }
   ],
   "source": [
    "# 1st January 2010 to 31 December 2020\n",
    "dates = pd.date_range(start=\"1/01/2010\", end=\"12/31/2020\", name=\"Date\")\n",
    "\n",
    "integer_series = pd.Series(index=dates, data=range(0, len(dates)))\n",
    "# integer_series = pd.Series(index=dates, data=range(len(dates)))\n",
    "integer_series"
   ]
  },
  {
   "cell_type": "code",
   "execution_count": 101,
   "id": "3ac2ce2b-fead-4535-a33d-c438b02df44f",
   "metadata": {},
   "outputs": [
    {
     "data": {
      "text/plain": [
       "Date\n",
       "2010-01-01       NaN\n",
       "2010-01-02       NaN\n",
       "2010-01-03       NaN\n",
       "2010-01-04       NaN\n",
       "2010-01-05       NaN\n",
       "               ...  \n",
       "2020-12-27    4010.0\n",
       "2020-12-28    4011.0\n",
       "2020-12-29    4012.0\n",
       "2020-12-30    4013.0\n",
       "2020-12-31    4014.0\n",
       "Freq: D, Length: 4018, dtype: float64"
      ]
     },
     "execution_count": 101,
     "metadata": {},
     "output_type": "execute_result"
    }
   ],
   "source": [
    "integer_series.rolling(7).mean()"
   ]
  }
 ],
 "metadata": {
  "kernelspec": {
   "display_name": "Python 3 (ipykernel)",
   "language": "python",
   "name": "python3"
  },
  "language_info": {
   "codemirror_mode": {
    "name": "ipython",
    "version": 3
   },
   "file_extension": ".py",
   "mimetype": "text/x-python",
   "name": "python",
   "nbconvert_exporter": "python",
   "pygments_lexer": "ipython3",
   "version": "3.13.2"
  }
 },
 "nbformat": 4,
 "nbformat_minor": 5
}
