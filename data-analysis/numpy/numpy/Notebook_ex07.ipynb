{
 "cells": [
  {
   "cell_type": "code",
   "execution_count": 20,
   "id": "2fa8ffea-b87a-4514-b509-1567c7d6a2d7",
   "metadata": {},
   "outputs": [
    {
     "name": "stdout",
     "output_type": "stream",
     "text": [
      "[[ 7.  1.]\n",
      " [nan  2.]\n",
      " [nan  8.]\n",
      " [ 9.  3.]\n",
      " [ 8.  9.]\n",
      " [nan  2.]\n",
      " [ 8.  2.]\n",
      " [nan  6.]\n",
      " [ 9.  2.]\n",
      " [ 8.  5.]]\n"
     ]
    }
   ],
   "source": [
    "import numpy as np\n",
    "\n",
    "generator = np.random.default_rng(123)\n",
    "grades = np.round(generator.uniform(low = 0.0, high = 10.0, size = (10, 2)))\n",
    "grades[[1,2,5,7], [0,0,0,0]] = np.nan\n",
    "print(grades)\n"
   ]
  },
  {
   "cell_type": "code",
   "execution_count": 22,
   "id": "399fc2bd-7f74-46a4-9ab9-f77544ffdc9b",
   "metadata": {},
   "outputs": [
    {
     "data": {
      "text/plain": [
       "array([[ 7.,  1.,  7.],\n",
       "       [nan,  2.,  2.],\n",
       "       [nan,  8.,  8.],\n",
       "       [ 9.,  3.,  9.],\n",
       "       [ 8.,  9.,  8.],\n",
       "       [nan,  2.,  2.],\n",
       "       [ 8.,  2.,  8.],\n",
       "       [nan,  6.,  6.],\n",
       "       [ 9.,  2.,  9.],\n",
       "       [ 8.,  5.,  8.]])"
      ]
     },
     "execution_count": 22,
     "metadata": {},
     "output_type": "execute_result"
    }
   ],
   "source": [
    "third_row = np.where(np.isnan(grades[:, 0]), grades[:, 1], grades[:, 0])\n",
    "np.column_stack((grades, third_row))"
   ]
  }
 ],
 "metadata": {
  "kernelspec": {
   "display_name": "Python 3 (ipykernel)",
   "language": "python",
   "name": "python3"
  },
  "language_info": {
   "codemirror_mode": {
    "name": "ipython",
    "version": 3
   },
   "file_extension": ".py",
   "mimetype": "text/x-python",
   "name": "python",
   "nbconvert_exporter": "python",
   "pygments_lexer": "ipython3",
   "version": "3.8.20"
  }
 },
 "nbformat": 4,
 "nbformat_minor": 5
}
