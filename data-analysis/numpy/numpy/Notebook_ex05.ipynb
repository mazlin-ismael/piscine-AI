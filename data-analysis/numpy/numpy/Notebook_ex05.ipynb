{
 "cells": [
  {
   "cell_type": "code",
   "execution_count": 23,
   "id": "a21046b7-0b82-4b50-8e13-2272f55c17be",
   "metadata": {},
   "outputs": [],
   "source": [
    "import numpy as np"
   ]
  },
  {
   "cell_type": "code",
   "execution_count": 24,
   "id": "83c2909b-15e1-4bdc-905f-16619f0e6c2e",
   "metadata": {},
   "outputs": [],
   "source": [
    "array1 = np.arange(1, 51)"
   ]
  },
  {
   "cell_type": "code",
   "execution_count": 25,
   "id": "ecc361c0-8b5c-415b-8c7a-d000e359dd67",
   "metadata": {},
   "outputs": [],
   "source": [
    "array2 = np.arange(51, 101)"
   ]
  },
  {
   "cell_type": "code",
   "execution_count": 26,
   "id": "68f61695-e715-4bbe-9550-a1e5400d8314",
   "metadata": {},
   "outputs": [],
   "source": [
    "array_concatenate = np.concatenate((array1, array2))"
   ]
  },
  {
   "cell_type": "code",
   "execution_count": 27,
   "id": "b2302019-dfc8-4821-bec5-ed9671b2e074",
   "metadata": {},
   "outputs": [
    {
     "name": "stdout",
     "output_type": "stream",
     "text": [
      "[[  1   2   3   4   5   6   7   8   9  10]\n",
      " [ 11  12  13  14  15  16  17  18  19  20]\n",
      " [ 21  22  23  24  25  26  27  28  29  30]\n",
      " [ 31  32  33  34  35  36  37  38  39  40]\n",
      " [ 41  42  43  44  45  46  47  48  49  50]\n",
      " [ 51  52  53  54  55  56  57  58  59  60]\n",
      " [ 61  62  63  64  65  66  67  68  69  70]\n",
      " [ 71  72  73  74  75  76  77  78  79  80]\n",
      " [ 81  82  83  84  85  86  87  88  89  90]\n",
      " [ 91  92  93  94  95  96  97  98  99 100]]\n"
     ]
    }
   ],
   "source": [
    "array_concatenate = array_concatenate.reshape(10, 10)\n",
    "print(array_concatenate)"
   ]
  }
 ],
 "metadata": {
  "kernelspec": {
   "display_name": "Python 3 (ipykernel)",
   "language": "python",
   "name": "python3"
  },
  "language_info": {
   "codemirror_mode": {
    "name": "ipython",
    "version": 3
   },
   "file_extension": ".py",
   "mimetype": "text/x-python",
   "name": "python",
   "nbconvert_exporter": "python",
   "pygments_lexer": "ipython3",
   "version": "3.8.20"
  }
 },
 "nbformat": 4,
 "nbformat_minor": 5
}
