{
 "cells": [
  {
   "cell_type": "code",
   "execution_count": 9,
   "id": "dca6afa4-b378-490f-b64f-1dc7711e7a5f",
   "metadata": {},
   "outputs": [],
   "source": [
    "import numpy as np"
   ]
  },
  {
   "cell_type": "code",
   "execution_count": 10,
   "id": "86b5e07c-1415-45f7-8394-42c2ef6bdbd0",
   "metadata": {},
   "outputs": [],
   "source": [
    "array = np.zeros(300)"
   ]
  },
  {
   "cell_type": "code",
   "execution_count": 11,
   "id": "8ee7e57b-0b56-4a73-8119-421898ca56ed",
   "metadata": {},
   "outputs": [],
   "source": [
    "array = array.reshape(3, 100)"
   ]
  },
  {
   "cell_type": "code",
   "execution_count": 12,
   "id": "5f333de1-b606-4cae-bf6b-71edfb2aac3b",
   "metadata": {},
   "outputs": [
    {
     "data": {
      "text/plain": [
       "(3, 100)"
      ]
     },
     "execution_count": 12,
     "metadata": {},
     "output_type": "execute_result"
    }
   ],
   "source": [
    "array.shape"
   ]
  }
 ],
 "metadata": {
  "kernelspec": {
   "display_name": "Python 3 (ipykernel)",
   "language": "python",
   "name": "python3"
  },
  "language_info": {
   "codemirror_mode": {
    "name": "ipython",
    "version": 3
   },
   "file_extension": ".py",
   "mimetype": "text/x-python",
   "name": "python",
   "nbconvert_exporter": "python",
   "pygments_lexer": "ipython3",
   "version": "3.8.20"
  }
 },
 "nbformat": 4,
 "nbformat_minor": 5
}
