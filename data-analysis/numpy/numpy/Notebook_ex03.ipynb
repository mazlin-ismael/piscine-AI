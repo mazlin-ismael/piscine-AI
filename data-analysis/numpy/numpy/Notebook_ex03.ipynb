{
 "cells": [
  {
   "cell_type": "code",
   "execution_count": 15,
   "id": "4e41d7cf-7d4e-4608-98ef-354ca7d55ebe",
   "metadata": {},
   "outputs": [],
   "source": [
    "import numpy as np"
   ]
  },
  {
   "cell_type": "code",
   "execution_count": 16,
   "id": "b86bfcae-e756-4dd2-9e27-dcfa2582accd",
   "metadata": {},
   "outputs": [],
   "source": [
    "array = np.arange(1, 101)"
   ]
  },
  {
   "cell_type": "code",
   "execution_count": 17,
   "id": "ae4d9070-a9b3-4993-a29d-323c64c2fbdd",
   "metadata": {},
   "outputs": [
    {
     "data": {
      "text/plain": [
       "array([ 1,  3,  5,  7,  9, 11, 13, 15, 17, 19, 21, 23, 25, 27, 29, 31, 33,\n",
       "       35, 37, 39, 41, 43, 45, 47, 49, 51, 53, 55, 57, 59, 61, 63, 65, 67,\n",
       "       69, 71, 73, 75, 77, 79, 81, 83, 85, 87, 89, 91, 93, 95, 97, 99])"
      ]
     },
     "execution_count": 17,
     "metadata": {},
     "output_type": "execute_result"
    }
   ],
   "source": [
    "array[::2]"
   ]
  },
  {
   "cell_type": "code",
   "execution_count": 18,
   "id": "cc12fbca-7c1f-472f-85d4-cd993bbe9a24",
   "metadata": {},
   "outputs": [
    {
     "data": {
      "text/plain": [
       "array([100,  98,  96,  94,  92,  90,  88,  86,  84,  82,  80,  78,  76,\n",
       "        74,  72,  70,  68,  66,  64,  62,  60,  58,  56,  54,  52,  50,\n",
       "        48,  46,  44,  42,  40,  38,  36,  34,  32,  30,  28,  26,  24,\n",
       "        22,  20,  18,  16,  14,  12,  10,   8,   6,   4,   2])"
      ]
     },
     "execution_count": 18,
     "metadata": {},
     "output_type": "execute_result"
    }
   ],
   "source": [
    "array[-1::-2]"
   ]
  },
  {
   "cell_type": "code",
   "execution_count": 19,
   "id": "07557640-69fe-4a08-b024-08f3bb6f5ec3",
   "metadata": {},
   "outputs": [
    {
     "data": {
      "text/plain": [
       "array([  1,   0,   3,   4,   0,   6,   7,   0,   9,  10,   0,  12,  13,\n",
       "         0,  15,  16,   0,  18,  19,   0,  21,  22,   0,  24,  25,   0,\n",
       "        27,  28,   0,  30,  31,   0,  33,  34,   0,  36,  37,   0,  39,\n",
       "        40,   0,  42,  43,   0,  45,  46,   0,  48,  49,   0,  51,  52,\n",
       "         0,  54,  55,   0,  57,  58,   0,  60,  61,   0,  63,  64,   0,\n",
       "        66,  67,   0,  69,  70,   0,  72,  73,   0,  75,  76,   0,  78,\n",
       "        79,   0,  81,  82,   0,  84,  85,   0,  87,  88,   0,  90,  91,\n",
       "         0,  93,  94,   0,  96,  97,   0,  99, 100])"
      ]
     },
     "execution_count": 19,
     "metadata": {},
     "output_type": "execute_result"
    }
   ],
   "source": [
    "array[1::3] = 3\n",
    "array"
   ]
  }
 ],
 "metadata": {
  "kernelspec": {
   "display_name": "Python 3 (ipykernel)",
   "language": "python",
   "name": "python3"
  },
  "language_info": {
   "codemirror_mode": {
    "name": "ipython",
    "version": 3
   },
   "file_extension": ".py",
   "mimetype": "text/x-python",
   "name": "python",
   "nbconvert_exporter": "python",
   "pygments_lexer": "ipython3",
   "version": "3.8.20"
  }
 },
 "nbformat": 4,
 "nbformat_minor": 5
}
