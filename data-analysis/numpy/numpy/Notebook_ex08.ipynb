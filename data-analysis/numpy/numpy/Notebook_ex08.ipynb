{
 "cells": [
  {
   "cell_type": "code",
   "execution_count": 98,
   "id": "ca82bfc1-8017-4681-ac55-c37dfb0776d7",
   "metadata": {},
   "outputs": [],
   "source": [
    "import numpy as np"
   ]
  },
  {
   "cell_type": "code",
   "execution_count": 99,
   "id": "2f2eddc6-5527-46b5-b755-70c32c017623",
   "metadata": {},
   "outputs": [
    {
     "data": {
      "text/plain": [
       "76800"
      ]
     },
     "execution_count": 99,
     "metadata": {},
     "output_type": "execute_result"
    }
   ],
   "source": [
    "array = np.genfromtxt(\"winequality-red.csv\", delimiter=\";\", dtype=np.float32)\n",
    "array.nbytes"
   ]
  },
  {
   "cell_type": "code",
   "execution_count": 100,
   "id": "0aa4e28e-193e-42dd-b52f-fb8d3b344d49",
   "metadata": {},
   "outputs": [
    {
     "data": {
      "text/plain": [
       "array([[ 7.4   ,  0.7   ,  0.    ,  1.9   ,  0.076 , 11.    , 34.    ,\n",
       "         0.9978,  3.51  ,  0.56  ,  9.4   ,  5.    ],\n",
       "       [ 7.4   ,  0.66  ,  0.    ,  1.8   ,  0.075 , 13.    , 40.    ,\n",
       "         0.9978,  3.51  ,  0.56  ,  9.4   ,  5.    ],\n",
       "       [ 6.7   ,  0.58  ,  0.08  ,  1.8   ,  0.097 , 15.    , 65.    ,\n",
       "         0.9959,  3.28  ,  0.54  ,  9.2   ,  5.    ]], dtype=float32)"
      ]
     },
     "execution_count": 100,
     "metadata": {},
     "output_type": "execute_result"
    }
   ],
   "source": [
    "array[[1, 6, 11]]"
   ]
  },
  {
   "cell_type": "code",
   "execution_count": 101,
   "id": "e7022764-2dd1-42f1-b05f-1fc2a4e39e26",
   "metadata": {},
   "outputs": [
    {
     "data": {
      "text/plain": [
       "False"
      ]
     },
     "execution_count": 101,
     "metadata": {},
     "output_type": "execute_result"
    }
   ],
   "source": [
    "np.any(array[:, -2] > 20)"
   ]
  },
  {
   "cell_type": "code",
   "execution_count": 102,
   "id": "9d17fba9-51a0-4e4c-bb64-eaf81b3d6599",
   "metadata": {},
   "outputs": [
    {
     "data": {
      "text/plain": [
       "10.422983"
      ]
     },
     "execution_count": 102,
     "metadata": {},
     "output_type": "execute_result"
    }
   ],
   "source": [
    "np.nanmean(array[:, -2])"
   ]
  },
  {
   "cell_type": "code",
   "execution_count": 103,
   "id": "cf50bc74-ba97-4684-b637-d7e66e72d71e",
   "metadata": {},
   "outputs": [
    {
     "name": "stdout",
     "output_type": "stream",
     "text": [
      "3.2100000381469727\n",
      "3.309999942779541\n",
      "3.4000000953674316\n",
      "3.311113\n",
      "2.74\n",
      "4.01\n"
     ]
    }
   ],
   "source": [
    "print(np.nanpercentile(array[:, -4], 25))\n",
    "print(np.nanpercentile(array[:, -4], 50))\n",
    "print(np.nanpercentile(array[:, -4], 75))\n",
    "print(np.nanmean(array[:, -4]))\n",
    "print(np.nanmin(array[:, -4]))\n",
    "print(np.nanmax(array[:, -4]))"
   ]
  },
  {
   "cell_type": "code",
   "execution_count": 104,
   "id": "88173208-917b-4b6a-99e0-03031bb7740a",
   "metadata": {},
   "outputs": [
    {
     "data": {
      "text/plain": [
       "5.1854305"
      ]
     },
     "execution_count": 104,
     "metadata": {},
     "output_type": "execute_result"
    }
   ],
   "source": [
    "# -3 -> sulphate\n",
    "percentile_20 = np.nanmean(np.nanpercentile(array[:, -3], 20))\n",
    "under_percentile_20 = array[array[:, -3] < percentile_20]\n",
    "np.nanmean(under_percentile_20[:, -1])"
   ]
  },
  {
   "cell_type": "code",
   "execution_count": 113,
   "id": "82788416-854a-49ee-b4c2-486a2d79d55e",
   "metadata": {},
   "outputs": [
    {
     "name": "stdout",
     "output_type": "stream",
     "text": [
      "[ 8.566666    0.4233333   0.39111114  2.5777776   0.06844445 13.277778\n",
      " 33.444443    0.99521226  3.2672222   0.76777774 12.094444    8.        ]\n",
      "[ 8.359999    0.8845      0.17099999  2.6350002   0.12249999 11.\n",
      " 24.9         0.997464    3.398       0.57000005  9.955       3.        ]\n"
     ]
    }
   ],
   "source": [
    "worst_quality = np.nanmin(array[:, -1])\n",
    "best_quality = np.nanmax(array[:, -1])\n",
    "\n",
    "best_quality_array = array[array[:, -1] == worst_quality]\n",
    "worst_quality_array = array[array[:, -1] == best_quality]\n",
    "\n",
    "print(np.nanmean(worst_quality_array, axis=0))\n",
    "print(np.nanmean(best_quality_array, axis=0))"
   ]
  },
  {
   "cell_type": "code",
   "execution_count": null,
   "id": "9aa633b2-39c2-4525-af44-85d2177eee3a",
   "metadata": {},
   "outputs": [],
   "source": []
  }
 ],
 "metadata": {
  "kernelspec": {
   "display_name": "Python 3 (ipykernel)",
   "language": "python",
   "name": "python3"
  },
  "language_info": {
   "codemirror_mode": {
    "name": "ipython",
    "version": 3
   },
   "file_extension": ".py",
   "mimetype": "text/x-python",
   "name": "python",
   "nbconvert_exporter": "python",
   "pygments_lexer": "ipython3",
   "version": "3.8.20"
  }
 },
 "nbformat": 4,
 "nbformat_minor": 5
}
