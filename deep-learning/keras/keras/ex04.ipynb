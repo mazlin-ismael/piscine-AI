{
 "cells": [
  {
   "cell_type": "code",
   "execution_count": 84,
   "id": "a78b9ded-b495-4b98-ae6d-ce6a8d976c59",
   "metadata": {},
   "outputs": [],
   "source": [
    "from tensorflow.keras import Sequential\n",
    "from tensorflow.keras.layers import Dense\n",
    "from sklearn.datasets import load_breast_cancer\n",
    "from sklearn.preprocessing import StandardScaler"
   ]
  },
  {
   "cell_type": "code",
   "execution_count": 85,
   "id": "b4ff3092-8171-4136-b292-e30e108ee35d",
   "metadata": {},
   "outputs": [
    {
     "data": {
      "text/plain": [
       "(569, 30)"
      ]
     },
     "execution_count": 85,
     "metadata": {},
     "output_type": "execute_result"
    }
   ],
   "source": [
    "model = Sequential()\n",
    "X, y = load_breast_cancer(return_X_y=True)\n",
    "X.shape"
   ]
  },
  {
   "cell_type": "code",
   "execution_count": 86,
   "id": "1834fd02-a166-4ce8-bbb4-b16d794828a7",
   "metadata": {},
   "outputs": [],
   "source": [
    "model.add(Dense(10, input_shape=(X.shape[1], ), activation=\"sigmoid\"))\n",
    "model.add(Dense(5, activation=\"sigmoid\"))\n",
    "model.add(Dense(1, activation=\"sigmoid\"))"
   ]
  },
  {
   "cell_type": "code",
   "execution_count": 87,
   "id": "3fa7d188-18bb-4b2c-aebf-d76526f81d46",
   "metadata": {},
   "outputs": [
    {
     "data": {
      "text/plain": [
       "[{'class_name': 'InputLayer',\n",
       "  'config': {'batch_input_shape': (None, 30),\n",
       "   'dtype': 'float32',\n",
       "   'sparse': False,\n",
       "   'ragged': False,\n",
       "   'name': 'dense_27_input'}},\n",
       " {'class_name': 'Dense',\n",
       "  'config': {'name': 'dense_27',\n",
       "   'trainable': True,\n",
       "   'dtype': 'float32',\n",
       "   'batch_input_shape': (None, 30),\n",
       "   'units': 10,\n",
       "   'activation': 'sigmoid',\n",
       "   'use_bias': True,\n",
       "   'kernel_initializer': {'class_name': 'GlorotUniform',\n",
       "    'config': {'seed': None}},\n",
       "   'bias_initializer': {'class_name': 'Zeros', 'config': {}},\n",
       "   'kernel_regularizer': None,\n",
       "   'bias_regularizer': None,\n",
       "   'activity_regularizer': None,\n",
       "   'kernel_constraint': None,\n",
       "   'bias_constraint': None}},\n",
       " {'class_name': 'Dense',\n",
       "  'config': {'name': 'dense_28',\n",
       "   'trainable': True,\n",
       "   'dtype': 'float32',\n",
       "   'units': 5,\n",
       "   'activation': 'sigmoid',\n",
       "   'use_bias': True,\n",
       "   'kernel_initializer': {'class_name': 'GlorotUniform',\n",
       "    'config': {'seed': None}},\n",
       "   'bias_initializer': {'class_name': 'Zeros', 'config': {}},\n",
       "   'kernel_regularizer': None,\n",
       "   'bias_regularizer': None,\n",
       "   'activity_regularizer': None,\n",
       "   'kernel_constraint': None,\n",
       "   'bias_constraint': None}},\n",
       " {'class_name': 'Dense',\n",
       "  'config': {'name': 'dense_29',\n",
       "   'trainable': True,\n",
       "   'dtype': 'float32',\n",
       "   'units': 1,\n",
       "   'activation': 'sigmoid',\n",
       "   'use_bias': True,\n",
       "   'kernel_initializer': {'class_name': 'GlorotUniform',\n",
       "    'config': {'seed': None}},\n",
       "   'bias_initializer': {'class_name': 'Zeros', 'config': {}},\n",
       "   'kernel_regularizer': None,\n",
       "   'bias_regularizer': None,\n",
       "   'activity_regularizer': None,\n",
       "   'kernel_constraint': None,\n",
       "   'bias_constraint': None}}]"
      ]
     },
     "execution_count": 87,
     "metadata": {},
     "output_type": "execute_result"
    }
   ],
   "source": [
    "model.compile(metrics=[\"accuracy\"], optimizer=\"adam\", loss=\"binary_crossentropy\")\n",
    "model.get_config()[\"layers\"]"
   ]
  },
  {
   "cell_type": "code",
   "execution_count": 88,
   "id": "0d5dccd2-f83d-4796-b482-3590eb93e4ba",
   "metadata": {},
   "outputs": [
    {
     "name": "stdout",
     "output_type": "stream",
     "text": [
      "Epoch 1/40\n",
      "18/18 [==============================] - 0s 3ms/step - loss: 0.8290 - accuracy: 0.6274\n",
      "Epoch 2/40\n",
      "18/18 [==============================] - 0s 4ms/step - loss: 0.8031 - accuracy: 0.6274\n",
      "Epoch 3/40\n",
      "18/18 [==============================] - 0s 4ms/step - loss: 0.7805 - accuracy: 0.6274\n",
      "Epoch 4/40\n",
      "18/18 [==============================] - 0s 5ms/step - loss: 0.7605 - accuracy: 0.6274\n",
      "Epoch 5/40\n",
      "18/18 [==============================] - 0s 3ms/step - loss: 0.7424 - accuracy: 0.6274\n",
      "Epoch 6/40\n",
      "18/18 [==============================] - 0s 2ms/step - loss: 0.7269 - accuracy: 0.6274\n",
      "Epoch 7/40\n",
      "18/18 [==============================] - 0s 2ms/step - loss: 0.7148 - accuracy: 0.6274\n",
      "Epoch 8/40\n",
      "18/18 [==============================] - 0s 3ms/step - loss: 0.7040 - accuracy: 0.6274\n",
      "Epoch 9/40\n",
      "18/18 [==============================] - 0s 3ms/step - loss: 0.6949 - accuracy: 0.6274\n",
      "Epoch 10/40\n",
      "18/18 [==============================] - 0s 3ms/step - loss: 0.6878 - accuracy: 0.6274\n",
      "Epoch 11/40\n",
      "18/18 [==============================] - 0s 3ms/step - loss: 0.6818 - accuracy: 0.6274\n",
      "Epoch 12/40\n",
      "18/18 [==============================] - 0s 3ms/step - loss: 0.6776 - accuracy: 0.6274\n",
      "Epoch 13/40\n",
      "18/18 [==============================] - 0s 4ms/step - loss: 0.6734 - accuracy: 0.6274\n",
      "Epoch 14/40\n",
      "18/18 [==============================] - 0s 4ms/step - loss: 0.6704 - accuracy: 0.6274\n",
      "Epoch 15/40\n",
      "18/18 [==============================] - 0s 3ms/step - loss: 0.6681 - accuracy: 0.6274\n",
      "Epoch 16/40\n",
      "18/18 [==============================] - 0s 3ms/step - loss: 0.6666 - accuracy: 0.6274\n",
      "Epoch 17/40\n",
      "18/18 [==============================] - 0s 3ms/step - loss: 0.6649 - accuracy: 0.6274\n",
      "Epoch 18/40\n",
      "18/18 [==============================] - 0s 3ms/step - loss: 0.6638 - accuracy: 0.6274\n",
      "Epoch 19/40\n",
      "18/18 [==============================] - 0s 2ms/step - loss: 0.6630 - accuracy: 0.6274\n",
      "Epoch 20/40\n",
      "18/18 [==============================] - 0s 3ms/step - loss: 0.6623 - accuracy: 0.6274\n",
      "Epoch 21/40\n",
      "18/18 [==============================] - 0s 3ms/step - loss: 0.6618 - accuracy: 0.6274\n",
      "Epoch 22/40\n",
      "18/18 [==============================] - 0s 3ms/step - loss: 0.6614 - accuracy: 0.6274\n",
      "Epoch 23/40\n",
      "18/18 [==============================] - 0s 3ms/step - loss: 0.6611 - accuracy: 0.6274\n",
      "Epoch 24/40\n",
      "18/18 [==============================] - 0s 3ms/step - loss: 0.6610 - accuracy: 0.6274\n",
      "Epoch 25/40\n",
      "18/18 [==============================] - 0s 3ms/step - loss: 0.6608 - accuracy: 0.6274\n",
      "Epoch 26/40\n",
      "18/18 [==============================] - 0s 3ms/step - loss: 0.6607 - accuracy: 0.6274\n",
      "Epoch 27/40\n",
      "18/18 [==============================] - 0s 3ms/step - loss: 0.6606 - accuracy: 0.6274\n",
      "Epoch 28/40\n",
      "18/18 [==============================] - 0s 3ms/step - loss: 0.6606 - accuracy: 0.6274\n",
      "Epoch 29/40\n",
      "18/18 [==============================] - 0s 3ms/step - loss: 0.6604 - accuracy: 0.6274\n",
      "Epoch 30/40\n",
      "18/18 [==============================] - 0s 2ms/step - loss: 0.6604 - accuracy: 0.6274\n",
      "Epoch 31/40\n",
      "18/18 [==============================] - 0s 3ms/step - loss: 0.6606 - accuracy: 0.6274\n",
      "Epoch 32/40\n",
      "18/18 [==============================] - 0s 3ms/step - loss: 0.6604 - accuracy: 0.6274\n",
      "Epoch 33/40\n",
      "18/18 [==============================] - 0s 3ms/step - loss: 0.6606 - accuracy: 0.6274\n",
      "Epoch 34/40\n",
      "18/18 [==============================] - 0s 3ms/step - loss: 0.6604 - accuracy: 0.6274\n",
      "Epoch 35/40\n",
      "18/18 [==============================] - 0s 3ms/step - loss: 0.6604 - accuracy: 0.6274\n",
      "Epoch 36/40\n",
      "18/18 [==============================] - 0s 3ms/step - loss: 0.6603 - accuracy: 0.6274\n",
      "Epoch 37/40\n",
      "18/18 [==============================] - 0s 3ms/step - loss: 0.6604 - accuracy: 0.6274\n",
      "Epoch 38/40\n",
      "18/18 [==============================] - 0s 4ms/step - loss: 0.6603 - accuracy: 0.6274\n",
      "Epoch 39/40\n",
      "18/18 [==============================] - 0s 3ms/step - loss: 0.6603 - accuracy: 0.6274\n",
      "Epoch 40/40\n",
      "18/18 [==============================] - 0s 3ms/step - loss: 0.6604 - accuracy: 0.6274\n"
     ]
    },
    {
     "data": {
      "text/plain": [
       "<keras.callbacks.History at 0x78e48845b5d0>"
      ]
     },
     "execution_count": 88,
     "metadata": {},
     "output_type": "execute_result"
    }
   ],
   "source": [
    "model.fit(X, y, epochs=40)"
   ]
  },
  {
   "cell_type": "code",
   "execution_count": 89,
   "id": "78facf9f-49be-4808-a8d9-b693e7e33662",
   "metadata": {},
   "outputs": [
    {
     "name": "stdout",
     "output_type": "stream",
     "text": [
      "Epoch 1/50\n",
      "18/18 [==============================] - 0s 6ms/step - loss: 0.6508 - accuracy: 0.6274\n",
      "Epoch 2/50\n",
      "18/18 [==============================] - 0s 4ms/step - loss: 0.6050 - accuracy: 0.6274\n",
      "Epoch 3/50\n",
      "18/18 [==============================] - 0s 3ms/step - loss: 0.5696 - accuracy: 0.6274\n",
      "Epoch 4/50\n",
      "18/18 [==============================] - 0s 3ms/step - loss: 0.5388 - accuracy: 0.6274\n",
      "Epoch 5/50\n",
      "18/18 [==============================] - 0s 3ms/step - loss: 0.5115 - accuracy: 0.6309\n",
      "Epoch 6/50\n",
      "18/18 [==============================] - 0s 3ms/step - loss: 0.4864 - accuracy: 0.7821\n",
      "Epoch 7/50\n",
      "18/18 [==============================] - 0s 3ms/step - loss: 0.4637 - accuracy: 0.8594\n",
      "Epoch 8/50\n",
      "18/18 [==============================] - 0s 3ms/step - loss: 0.4431 - accuracy: 0.8858\n",
      "Epoch 9/50\n",
      "18/18 [==============================] - 0s 3ms/step - loss: 0.4245 - accuracy: 0.9086\n",
      "Epoch 10/50\n",
      "18/18 [==============================] - 0s 3ms/step - loss: 0.4077 - accuracy: 0.9279\n",
      "Epoch 11/50\n",
      "18/18 [==============================] - 0s 3ms/step - loss: 0.3927 - accuracy: 0.9350\n",
      "Epoch 12/50\n",
      "18/18 [==============================] - 0s 3ms/step - loss: 0.3792 - accuracy: 0.9385\n",
      "Epoch 13/50\n",
      "18/18 [==============================] - 0s 3ms/step - loss: 0.3667 - accuracy: 0.9420\n",
      "Epoch 14/50\n",
      "18/18 [==============================] - 0s 3ms/step - loss: 0.3554 - accuracy: 0.9438\n",
      "Epoch 15/50\n",
      "18/18 [==============================] - 0s 3ms/step - loss: 0.3452 - accuracy: 0.9455\n",
      "Epoch 16/50\n",
      "18/18 [==============================] - 0s 3ms/step - loss: 0.3357 - accuracy: 0.9525\n",
      "Epoch 17/50\n",
      "18/18 [==============================] - 0s 3ms/step - loss: 0.3270 - accuracy: 0.9613\n",
      "Epoch 18/50\n",
      "18/18 [==============================] - 0s 3ms/step - loss: 0.3191 - accuracy: 0.9631\n",
      "Epoch 19/50\n",
      "18/18 [==============================] - 0s 3ms/step - loss: 0.3116 - accuracy: 0.9649\n",
      "Epoch 20/50\n",
      "18/18 [==============================] - 0s 3ms/step - loss: 0.3047 - accuracy: 0.9666\n",
      "Epoch 21/50\n",
      "18/18 [==============================] - 0s 2ms/step - loss: 0.2982 - accuracy: 0.9649\n",
      "Epoch 22/50\n",
      "18/18 [==============================] - 0s 2ms/step - loss: 0.2921 - accuracy: 0.9649\n",
      "Epoch 23/50\n",
      "18/18 [==============================] - 0s 2ms/step - loss: 0.2862 - accuracy: 0.9666\n",
      "Epoch 24/50\n",
      "18/18 [==============================] - 0s 4ms/step - loss: 0.2808 - accuracy: 0.9684\n",
      "Epoch 25/50\n",
      "18/18 [==============================] - 0s 2ms/step - loss: 0.2755 - accuracy: 0.9701\n",
      "Epoch 26/50\n",
      "18/18 [==============================] - 0s 2ms/step - loss: 0.2706 - accuracy: 0.9736\n",
      "Epoch 27/50\n",
      "18/18 [==============================] - 0s 2ms/step - loss: 0.2658 - accuracy: 0.9754\n",
      "Epoch 28/50\n",
      "18/18 [==============================] - 0s 2ms/step - loss: 0.2613 - accuracy: 0.9754\n",
      "Epoch 29/50\n",
      "18/18 [==============================] - 0s 2ms/step - loss: 0.2569 - accuracy: 0.9754\n",
      "Epoch 30/50\n",
      "18/18 [==============================] - 0s 2ms/step - loss: 0.2527 - accuracy: 0.9736\n",
      "Epoch 31/50\n",
      "18/18 [==============================] - 0s 1ms/step - loss: 0.2487 - accuracy: 0.9736\n",
      "Epoch 32/50\n",
      "18/18 [==============================] - 0s 2ms/step - loss: 0.2448 - accuracy: 0.9736\n",
      "Epoch 33/50\n",
      "18/18 [==============================] - 0s 2ms/step - loss: 0.2412 - accuracy: 0.9772\n",
      "Epoch 34/50\n",
      "18/18 [==============================] - 0s 2ms/step - loss: 0.2374 - accuracy: 0.9772\n",
      "Epoch 35/50\n",
      "18/18 [==============================] - 0s 2ms/step - loss: 0.2340 - accuracy: 0.9789\n",
      "Epoch 36/50\n",
      "18/18 [==============================] - 0s 2ms/step - loss: 0.2306 - accuracy: 0.9807\n",
      "Epoch 37/50\n",
      "18/18 [==============================] - 0s 3ms/step - loss: 0.2273 - accuracy: 0.9807\n",
      "Epoch 38/50\n",
      "18/18 [==============================] - 0s 1ms/step - loss: 0.2241 - accuracy: 0.9842\n",
      "Epoch 39/50\n",
      "18/18 [==============================] - 0s 2ms/step - loss: 0.2211 - accuracy: 0.9842\n",
      "Epoch 40/50\n",
      "18/18 [==============================] - 0s 2ms/step - loss: 0.2182 - accuracy: 0.9842\n",
      "Epoch 41/50\n",
      "18/18 [==============================] - 0s 2ms/step - loss: 0.2152 - accuracy: 0.9859\n",
      "Epoch 42/50\n",
      "18/18 [==============================] - 0s 3ms/step - loss: 0.2125 - accuracy: 0.9842\n",
      "Epoch 43/50\n",
      "18/18 [==============================] - 0s 3ms/step - loss: 0.2098 - accuracy: 0.9859\n",
      "Epoch 44/50\n",
      "18/18 [==============================] - 0s 2ms/step - loss: 0.2070 - accuracy: 0.9859\n",
      "Epoch 45/50\n",
      "18/18 [==============================] - 0s 2ms/step - loss: 0.2045 - accuracy: 0.9859\n",
      "Epoch 46/50\n",
      "18/18 [==============================] - 0s 2ms/step - loss: 0.2020 - accuracy: 0.9859\n",
      "Epoch 47/50\n",
      "18/18 [==============================] - 0s 2ms/step - loss: 0.1995 - accuracy: 0.9859\n",
      "Epoch 48/50\n",
      "18/18 [==============================] - 0s 2ms/step - loss: 0.1971 - accuracy: 0.9859\n",
      "Epoch 49/50\n",
      "18/18 [==============================] - 0s 2ms/step - loss: 0.1948 - accuracy: 0.9859\n",
      "Epoch 50/50\n",
      "18/18 [==============================] - 0s 2ms/step - loss: 0.1925 - accuracy: 0.9859\n"
     ]
    },
    {
     "data": {
      "text/plain": [
       "<keras.callbacks.History at 0x78e4871f15d0>"
      ]
     },
     "execution_count": 89,
     "metadata": {},
     "output_type": "execute_result"
    }
   ],
   "source": [
    "X = StandardScaler().fit_transform(X)\n",
    "model.fit(X, y, epochs=50)"
   ]
  }
 ],
 "metadata": {
  "kernelspec": {
   "display_name": "Python 3 (ipykernel)",
   "language": "python",
   "name": "python3"
  },
  "language_info": {
   "codemirror_mode": {
    "name": "ipython",
    "version": 3
   },
   "file_extension": ".py",
   "mimetype": "text/x-python",
   "name": "python",
   "nbconvert_exporter": "python",
   "pygments_lexer": "ipython3",
   "version": "3.11.5"
  }
 },
 "nbformat": 4,
 "nbformat_minor": 5
}
