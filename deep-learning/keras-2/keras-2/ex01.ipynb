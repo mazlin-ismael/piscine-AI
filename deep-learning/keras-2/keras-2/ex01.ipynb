{
 "cells": [
  {
   "cell_type": "code",
   "execution_count": 8,
   "id": "e9adedbe-79a3-4ae4-b4c7-35fa08437d6e",
   "metadata": {},
   "outputs": [],
   "source": [
    "from tensorflow.keras import Sequential\n",
    "from tensorflow.keras.layers import Dense\n",
    "from tensorflow.keras.metrics import RootMeanSquaredError"
   ]
  },
  {
   "cell_type": "code",
   "execution_count": 9,
   "id": "cf3bb499-0b34-4854-9356-6eb9751e715e",
   "metadata": {},
   "outputs": [],
   "source": [
    "model = Sequential()\n",
    "model.add(Dense(8, input_shape=(5,), activation= 'sigmoid'))\n",
    "model.add(Dense(4, activation= 'sigmoid'))\n",
    "model.add(Dense(1, activation= 'linear'))"
   ]
  },
  {
   "cell_type": "code",
   "execution_count": 10,
   "id": "1110bc92-b214-4194-ac7b-dcafd8dc1d23",
   "metadata": {},
   "outputs": [],
   "source": [
    "model.compile(\n",
    "  optimizer='adam',\n",
    "  loss='mse',\n",
    "  metrics=['mse']\n",
    ")"
   ]
  }
 ],
 "metadata": {
  "kernelspec": {
   "display_name": "Python 3 (ipykernel)",
   "language": "python",
   "name": "python3"
  },
  "language_info": {
   "codemirror_mode": {
    "name": "ipython",
    "version": 3
   },
   "file_extension": ".py",
   "mimetype": "text/x-python",
   "name": "python",
   "nbconvert_exporter": "python",
   "pygments_lexer": "ipython3",
   "version": "3.11.5"
  }
 },
 "nbformat": 4,
 "nbformat_minor": 5
}
