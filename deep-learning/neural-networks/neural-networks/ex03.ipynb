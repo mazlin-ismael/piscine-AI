{
 "cells": [
  {
   "cell_type": "code",
   "execution_count": 22,
   "id": "4a270563-4169-447e-a213-b9f68ac62227",
   "metadata": {},
   "outputs": [],
   "source": [
    "import numpy as np\n",
    "from sklearn.metrics import log_loss"
   ]
  },
  {
   "cell_type": "code",
   "execution_count": 23,
   "id": "baf63878-9899-4b09-bf24-678dc013f5ca",
   "metadata": {},
   "outputs": [],
   "source": [
    "y_true = np.array([0,1,1,0,1])\n",
    "y_pred = np.array([0.1,0.8,0.6, 0.5, 0.3])"
   ]
  },
  {
   "cell_type": "code",
   "execution_count": 24,
   "id": "d15a5514-5b0b-42bc-926b-a563476ba649",
   "metadata": {},
   "outputs": [
    {
     "data": {
      "text/plain": [
       "0.5472899351247816"
      ]
     },
     "execution_count": 24,
     "metadata": {},
     "output_type": "execute_result"
    }
   ],
   "source": [
    "log_loss(y_true, y_pred)"
   ]
  },
  {
   "cell_type": "code",
   "execution_count": 25,
   "id": "e73b9dfd-0341-4db0-8f05-4118302db032",
   "metadata": {},
   "outputs": [],
   "source": [
    "def log_loss_custom(y_true, y_pred):\n",
    "    return -1/len(y_true) * np.sum(y_true*np.log(y_pred) + (1-y_true)*np.log(1-y_pred))"
   ]
  },
  {
   "cell_type": "code",
   "execution_count": 26,
   "id": "de3d574d-08f5-44ab-9a8b-dba818e9a404",
   "metadata": {},
   "outputs": [
    {
     "data": {
      "text/plain": [
       "np.float64(0.5472899351247816)"
      ]
     },
     "execution_count": 26,
     "metadata": {},
     "output_type": "execute_result"
    }
   ],
   "source": [
    "log_loss_custom(y_true, y_pred)"
   ]
  }
 ],
 "metadata": {
  "kernelspec": {
   "display_name": "Python 3 (ipykernel)",
   "language": "python",
   "name": "python3"
  },
  "language_info": {
   "codemirror_mode": {
    "name": "ipython",
    "version": 3
   },
   "file_extension": ".py",
   "mimetype": "text/x-python",
   "name": "python",
   "nbconvert_exporter": "python",
   "pygments_lexer": "ipython3",
   "version": "3.13.5"
  }
 },
 "nbformat": 4,
 "nbformat_minor": 5
}
