{
 "cells": [
  {
   "cell_type": "code",
   "execution_count": 32,
   "id": "fa9a1ab1-d688-4e27-a445-30c20ea415e4",
   "metadata": {},
   "outputs": [],
   "source": [
    "import numpy as np"
   ]
  },
  {
   "cell_type": "code",
   "execution_count": 33,
   "id": "0a57df2f-7ba8-48a4-8f5b-048cdb62e12e",
   "metadata": {},
   "outputs": [],
   "source": [
    "def sigmoid(x):\n",
    "    return 1 / (1 + np.exp(-x))"
   ]
  },
  {
   "cell_type": "code",
   "execution_count": 34,
   "id": "c2fcbbad-3912-4241-8610-519ba42d4f92",
   "metadata": {},
   "outputs": [],
   "source": [
    "class Neuron:\n",
    "    def __init__(self, weight1, weight2, bias):\n",
    "        self.weights_1 = weight1\n",
    "        self.weights_2 = weight2\n",
    "        self.bias = bias\n",
    "    \n",
    "    def feedforward(cls, x1, x2):\n",
    "        x1_w1 = x1 * cls.weights_1\n",
    "        x1_w2 = x2 * cls.weights_2\n",
    "        x = x1_w1 + x1_w2 + cls.bias\n",
    "        y = sigmoid(x)\n",
    "        return y"
   ]
  },
  {
   "cell_type": "code",
   "execution_count": 35,
   "id": "fe32d403-a1ec-4b30-8e8e-658dd13a6e9b",
   "metadata": {},
   "outputs": [],
   "source": [
    "neuron_h1 = Neuron(1,2,-1)\n",
    "neuron_h2 = Neuron(0.5,1,0)\n",
    "neuron_o1 = Neuron(2,0,1)"
   ]
  },
  {
   "cell_type": "code",
   "execution_count": 36,
   "id": "100b8e48-b087-49e0-91ea-3903adcb00c7",
   "metadata": {},
   "outputs": [],
   "source": [
    "class OurNeuralNetwork:\n",
    "    def __init__(self, neuron_h1, neuron_h2, neuron_o1):\n",
    "        self.h1 = neuron_h1\n",
    "        self.h2 = neuron_h2\n",
    "        self.o1 = neuron_o1\n",
    "\n",
    "    def feedforward(self, x1, x2):\n",
    "        out_h1 = self.h1.feedforward(x1, x2)\n",
    "        out_h2 = self.h2.feedforward(x1, x2)\n",
    "        y = self.o1.feedforward(out_h1, out_h2)\n",
    "        return y\n"
   ]
  },
  {
   "cell_type": "code",
   "execution_count": 37,
   "id": "a1ef75d7-ea3b-41ed-80e8-c2c43e9a8247",
   "metadata": {},
   "outputs": [
    {
     "name": "stdout",
     "output_type": "stream",
     "text": [
      "0.9524917424084265\n"
     ]
    }
   ],
   "source": [
    "print(OurNeuralNetwork(neuron_h1, neuron_h2, neuron_o1).feedforward(2, 3))"
   ]
  }
 ],
 "metadata": {
  "kernelspec": {
   "display_name": "Python 3 (ipykernel)",
   "language": "python",
   "name": "python3"
  },
  "language_info": {
   "codemirror_mode": {
    "name": "ipython",
    "version": 3
   },
   "file_extension": ".py",
   "mimetype": "text/x-python",
   "name": "python",
   "nbconvert_exporter": "python",
   "pygments_lexer": "ipython3",
   "version": "3.13.5"
  }
 },
 "nbformat": 4,
 "nbformat_minor": 5
}
