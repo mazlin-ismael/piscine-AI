{
 "cells": [
  {
   "cell_type": "code",
   "execution_count": 27,
   "id": "d0093f11-56d9-40f9-af36-ca05bae4e56d",
   "metadata": {},
   "outputs": [],
   "source": [
    "import numpy as np"
   ]
  },
  {
   "cell_type": "code",
   "execution_count": 28,
   "id": "b03e1fbb-c430-4e33-936a-ec40fc8b028f",
   "metadata": {},
   "outputs": [],
   "source": [
    "def sigmoid(x):\n",
    "    return 1 / (1 + np.exp(-x))"
   ]
  },
  {
   "cell_type": "code",
   "execution_count": 29,
   "id": "3dad5d12-b641-40a3-86f7-2ef812e702af",
   "metadata": {},
   "outputs": [],
   "source": [
    "class Neuron:\n",
    "    def __init__(self, weight1, weight2, bias, regression):\n",
    "        self.weights_1 = weight1\n",
    "        self.weights_2 = weight2\n",
    "        self.bias = bias\n",
    "        self.regression = regression\n",
    "        #TODO\n",
    "    \n",
    "    def feedforward(cls, x1, x2):\n",
    "        x1_w1 = x1 * cls.weights_1\n",
    "        x1_w2 = x2 * cls.weights_2\n",
    "        x = x1_w1 + x1_w2 + cls.bias\n",
    "    \n",
    "        if cls.regression:\n",
    "            return x\n",
    "        y = sigmoid(x)\n",
    "        return y"
   ]
  },
  {
   "cell_type": "code",
   "execution_count": 30,
   "id": "2ff21cf5-3823-403e-9baf-37188dabffa5",
   "metadata": {},
   "outputs": [
    {
     "data": {
      "text/plain": [
       "7"
      ]
     },
     "execution_count": 30,
     "metadata": {},
     "output_type": "execute_result"
    }
   ],
   "source": [
    "neuron = Neuron(0,1,4, True)\n",
    "neuron.feedforward(2,3)"
   ]
  },
  {
   "cell_type": "code",
   "execution_count": 31,
   "id": "e2806f37-3257-4ca4-8c36-8b3be4db64dc",
   "metadata": {},
   "outputs": [],
   "source": [
    "class OurNeuralNetwork:\n",
    "    def __init__(self, neuron_h1, neuron_h2, neuron_o1):\n",
    "        self.h1 = neuron_h1\n",
    "        self.h2 = neuron_h2\n",
    "        self.o1 = neuron_o1\n",
    "\n",
    "    def feedforward(self, x1, x2):\n",
    "        out_h1 = self.h1.feedforward(x1, x2)\n",
    "        out_h2 = self.h2.feedforward(x1, x2)\n",
    "        y = self.o1.feedforward(out_h1, out_h2)\n",
    "        return y\n"
   ]
  },
  {
   "cell_type": "code",
   "execution_count": 34,
   "id": "7b92a5bd-82ec-4f8c-85e1-13178ef7930a",
   "metadata": {},
   "outputs": [],
   "source": [
    "#replace regression by the right value\n",
    "neuron_h1 = Neuron(0.05, 0.001, 0, False)\n",
    "neuron_h2 = Neuron(0.002, 0.003, 0, False)\n",
    "neuron_o1 = Neuron(2,7,10, True)"
   ]
  },
  {
   "cell_type": "code",
   "execution_count": 40,
   "id": "e7bf9210-84f9-4680-93f8-005053e7bcd9",
   "metadata": {},
   "outputs": [
    {
     "data": {
      "text/plain": [
       "array([14.91886316, 14.83137891, 15.08666261, 14.93927089])"
      ]
     },
     "execution_count": 40,
     "metadata": {},
     "output_type": "execute_result"
    }
   ],
   "source": [
    "y_pred_Bob = OurNeuralNetwork(neuron_h1, neuron_h2, neuron_o1).feedforward(12, 15)\n",
    "y_pred_Eli =OurNeuralNetwork(neuron_h1, neuron_h2, neuron_o1).feedforward(10, 9)\n",
    "y_pred_Tom = OurNeuralNetwork(neuron_h1, neuron_h2, neuron_o1).feedforward(18, 18)\n",
    "y_pred_Ryan = OurNeuralNetwork(neuron_h1, neuron_h2, neuron_o1).feedforward(13, 14)\n",
    "\n",
    "y_pred = np.array([y_pred_Bob, y_pred_Eli, y_pred_Tom, y_pred_Ryan])\n",
    "y_true = np.array([16, 10, 19, 16])\n",
    "y_pred"
   ]
  },
  {
   "cell_type": "code",
   "execution_count": 41,
   "id": "c3274541-fd37-4560-a009-ff3bdc5c3e13",
   "metadata": {},
   "outputs": [],
   "source": [
    "def mse_loss(y_true, y_pred):\n",
    "    return ((y_true - y_pred) ** 2).mean()"
   ]
  },
  {
   "cell_type": "code",
   "execution_count": 42,
   "id": "ce17bbd8-e07d-4250-8067-f641893ecf22",
   "metadata": {},
   "outputs": [
    {
     "data": {
      "text/plain": [
       "np.float64(10.237608699909138)"
      ]
     },
     "execution_count": 42,
     "metadata": {},
     "output_type": "execute_result"
    }
   ],
   "source": [
    "mse_loss(y_true, y_pred)"
   ]
  }
 ],
 "metadata": {
  "kernelspec": {
   "display_name": "Python 3 (ipykernel)",
   "language": "python",
   "name": "python3"
  },
  "language_info": {
   "codemirror_mode": {
    "name": "ipython",
    "version": 3
   },
   "file_extension": ".py",
   "mimetype": "text/x-python",
   "name": "python",
   "nbconvert_exporter": "python",
   "pygments_lexer": "ipython3",
   "version": "3.13.5"
  }
 },
 "nbformat": 4,
 "nbformat_minor": 5
}
