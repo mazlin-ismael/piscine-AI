{
 "cells": [
  {
   "cell_type": "code",
   "execution_count": 21,
   "id": "4f5ced5a-8514-49a7-ac61-18180ad03dd9",
   "metadata": {},
   "outputs": [],
   "source": [
    "import numpy as np"
   ]
  },
  {
   "cell_type": "code",
   "execution_count": 22,
   "id": "0b4541b8-5882-499e-a62e-01c96c5f8f00",
   "metadata": {},
   "outputs": [],
   "source": [
    "def sigmoid(x):\n",
    "    return 1 / (1 + np.exp(-x))"
   ]
  },
  {
   "cell_type": "code",
   "execution_count": 23,
   "id": "6f98b8b7-734f-4f59-ab88-ba9f343a3d68",
   "metadata": {},
   "outputs": [],
   "source": [
    "class Neuron:\n",
    "    def __init__(self, weight1, weight2, bias):\n",
    "        self.weights_1 = weight1\n",
    "        self.weights_2 = weight2\n",
    "        self.bias = bias\n",
    "    \n",
    "    def feedforward(cls, x1, x2):\n",
    "        x1_w1 = x1 * cls.weights_1\n",
    "        x1_w2 = x2 * cls.weights_2\n",
    "        x = x1_w1 + x1_w2 + cls.bias\n",
    "        y = sigmoid(x)\n",
    "        return y"
   ]
  },
  {
   "cell_type": "code",
   "execution_count": 24,
   "id": "1b4f89f7-2ece-4fa8-b831-02b76412d34d",
   "metadata": {},
   "outputs": [
    {
     "data": {
      "text/plain": [
       "np.float64(0.9990889488055994)"
      ]
     },
     "execution_count": 24,
     "metadata": {},
     "output_type": "execute_result"
    }
   ],
   "source": [
    "neuron = Neuron(0, 1, 4)\n",
    "neuron.feedforward(2, 3)"
   ]
  }
 ],
 "metadata": {
  "kernelspec": {
   "display_name": "Python 3 (ipykernel)",
   "language": "python",
   "name": "python3"
  },
  "language_info": {
   "codemirror_mode": {
    "name": "ipython",
    "version": 3
   },
   "file_extension": ".py",
   "mimetype": "text/x-python",
   "name": "python",
   "nbconvert_exporter": "python",
   "pygments_lexer": "ipython3",
   "version": "3.13.5"
  }
 },
 "nbformat": 4,
 "nbformat_minor": 5
}
