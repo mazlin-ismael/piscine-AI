{
 "cells": [
  {
   "cell_type": "code",
   "execution_count": 24,
   "id": "f0e8135c-5420-49ba-8329-b5efc29eb5e7",
   "metadata": {},
   "outputs": [],
   "source": [
    "import numpy as np\n",
    "from sklearn.metrics import log_loss"
   ]
  },
  {
   "cell_type": "code",
   "execution_count": 25,
   "id": "09e62cff-7e10-44ca-a315-2026faca18f9",
   "metadata": {},
   "outputs": [],
   "source": [
    "def sigmoid(x):\n",
    "    return 1 / (1 + np.exp(-x))"
   ]
  },
  {
   "cell_type": "code",
   "execution_count": 26,
   "id": "45646bc0-dc2b-4ccd-b745-c3a01a00fec0",
   "metadata": {},
   "outputs": [],
   "source": [
    "class Neuron:\n",
    "    def __init__(self, weight1, weight2, bias):\n",
    "        self.weights_1 = weight1\n",
    "        self.weights_2 = weight2\n",
    "        self.bias = bias\n",
    "    \n",
    "    def feedforward(cls, x1, x2):\n",
    "        x1_w1 = x1 * cls.weights_1\n",
    "        x1_w2 = x2 * cls.weights_2\n",
    "        x = x1_w1 + x1_w2 + cls.bias\n",
    "        y = sigmoid(x)\n",
    "        return y"
   ]
  },
  {
   "cell_type": "code",
   "execution_count": 27,
   "id": "96f2be48-adc2-4460-b0fc-329378886409",
   "metadata": {},
   "outputs": [],
   "source": [
    "class OurNeuralNetwork:\n",
    "    def __init__(self, neuron_h1, neuron_h2, neuron_o1):\n",
    "        self.h1 = neuron_h1\n",
    "        self.h2 = neuron_h2\n",
    "        self.o1 = neuron_o1\n",
    "\n",
    "    def feedforward(self, x1, x2):\n",
    "        out_h1 = self.h1.feedforward(x1, x2)\n",
    "        out_h2 = self.h2.feedforward(x1, x2)\n",
    "        y = self.o1.feedforward(out_h1, out_h2)\n",
    "        return y"
   ]
  },
  {
   "cell_type": "code",
   "execution_count": 28,
   "id": "0f5b41b8-41bb-46a1-b888-52e1fe743882",
   "metadata": {},
   "outputs": [],
   "source": [
    "neuron_h1 = Neuron(0.05, 0.001, 0)\n",
    "neuron_h2 = Neuron(0.02, 0.003, 0)\n",
    "neuron_o1 = Neuron(2,0,0)"
   ]
  },
  {
   "cell_type": "code",
   "execution_count": 31,
   "id": "ae3e763e-f08d-4508-b5ee-52b91be70c89",
   "metadata": {},
   "outputs": [
    {
     "data": {
      "text/plain": [
       "array([0.78552533, 0.77715166, 0.80678737, 0.7892344 ])"
      ]
     },
     "execution_count": 31,
     "metadata": {},
     "output_type": "execute_result"
    }
   ],
   "source": [
    "y_pred_Bob = OurNeuralNetwork(neuron_h1, neuron_h2, neuron_o1).feedforward(12, 15)\n",
    "y_pred_Eli =OurNeuralNetwork(neuron_h1, neuron_h2, neuron_o1).feedforward(10, 9)\n",
    "y_pred_Tom = OurNeuralNetwork(neuron_h1, neuron_h2, neuron_o1).feedforward(18, 18)\n",
    "y_pred_Ryan = OurNeuralNetwork(neuron_h1, neuron_h2, neuron_o1).feedforward(13, 14)\n",
    "\n",
    "y_pred = np.array([y_pred_Bob, y_pred_Eli, y_pred_Tom, y_pred_Ryan])\n",
    "y_true = np.array([1, 0, 1, 1])\n",
    "y_pred"
   ]
  },
  {
   "cell_type": "code",
   "execution_count": 30,
   "id": "3b089fc4-84f9-4333-be09-ac908bca0ca1",
   "metadata": {},
   "outputs": [
    {
     "data": {
      "text/plain": [
       "0.5485133607757963"
      ]
     },
     "execution_count": 30,
     "metadata": {},
     "output_type": "execute_result"
    }
   ],
   "source": [
    "log_loss(y_true, y_pred)"
   ]
  }
 ],
 "metadata": {
  "kernelspec": {
   "display_name": "Python 3 (ipykernel)",
   "language": "python",
   "name": "python3"
  },
  "language_info": {
   "codemirror_mode": {
    "name": "ipython",
    "version": 3
   },
   "file_extension": ".py",
   "mimetype": "text/x-python",
   "name": "python",
   "nbconvert_exporter": "python",
   "pygments_lexer": "ipython3",
   "version": "3.13.5"
  }
 },
 "nbformat": 4,
 "nbformat_minor": 5
}
