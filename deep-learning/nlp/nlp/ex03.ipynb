{
 "cells": [
  {
   "cell_type": "code",
   "execution_count": 14,
   "id": "ca9d7dbc-4046-41f5-aa0d-802dbd3593ba",
   "metadata": {},
   "outputs": [],
   "source": [
    "from nltk.tokenize import sent_tokenize, word_tokenize"
   ]
  },
  {
   "cell_type": "code",
   "execution_count": 15,
   "id": "d1dc955d-aa09-400a-9207-ea26dc30b1d7",
   "metadata": {},
   "outputs": [],
   "source": [
    "text = \"\"\"Bitcoin is a cryptocurrency invented in 2008 by an unknown person or group of people using the name Satoshi Nakamoto. \n",
    "    The currency began use in 2009 when its implementation was released as open-source software.\"\"\""
   ]
  },
  {
   "cell_type": "code",
   "execution_count": 16,
   "id": "6c37e741-8593-43a3-aae1-1df813cc7c3f",
   "metadata": {},
   "outputs": [
    {
     "data": {
      "text/plain": [
       "['Bitcoin is a cryptocurrency invented in 2008 by an unknown person or group of people using the name Satoshi Nakamoto.',\n",
       " 'The currency began use in 2009 when its implementation was released as open-source software.']"
      ]
     },
     "execution_count": 16,
     "metadata": {},
     "output_type": "execute_result"
    }
   ],
   "source": [
    "sent_tokenize(text)"
   ]
  },
  {
   "cell_type": "code",
   "execution_count": 17,
   "id": "f7c07775-41db-48fe-b606-ae4ea70d803f",
   "metadata": {},
   "outputs": [
    {
     "data": {
      "text/plain": [
       "['Bitcoin',\n",
       " 'is',\n",
       " 'a',\n",
       " 'cryptocurrency',\n",
       " 'invented',\n",
       " 'in',\n",
       " '2008',\n",
       " 'by',\n",
       " 'an',\n",
       " 'unknown',\n",
       " 'person',\n",
       " 'or',\n",
       " 'group',\n",
       " 'of',\n",
       " 'people',\n",
       " 'using',\n",
       " 'the',\n",
       " 'name',\n",
       " 'Satoshi',\n",
       " 'Nakamoto',\n",
       " '.',\n",
       " 'The',\n",
       " 'currency',\n",
       " 'began',\n",
       " 'use',\n",
       " 'in',\n",
       " '2009',\n",
       " 'when',\n",
       " 'its',\n",
       " 'implementation',\n",
       " 'was',\n",
       " 'released',\n",
       " 'as',\n",
       " 'open-source',\n",
       " 'software',\n",
       " '.']"
      ]
     },
     "execution_count": 17,
     "metadata": {},
     "output_type": "execute_result"
    }
   ],
   "source": [
    "word_tokenize(text)"
   ]
  }
 ],
 "metadata": {
  "kernelspec": {
   "display_name": "Python 3 (ipykernel)",
   "language": "python",
   "name": "python3"
  },
  "language_info": {
   "codemirror_mode": {
    "name": "ipython",
    "version": 3
   },
   "file_extension": ".py",
   "mimetype": "text/x-python",
   "name": "python",
   "nbconvert_exporter": "python",
   "pygments_lexer": "ipython3",
   "version": "3.13.5"
  }
 },
 "nbformat": 4,
 "nbformat_minor": 5
}
