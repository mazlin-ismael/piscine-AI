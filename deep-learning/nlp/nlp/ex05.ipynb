{
 "cells": [
  {
   "cell_type": "code",
   "execution_count": 10,
   "id": "dc460736-8b5e-40da-a9d6-77b5b8bc491a",
   "metadata": {},
   "outputs": [],
   "source": [
    "from nltk.stem import PorterStemmer\n",
    "from nltk.tokenize import word_tokenize"
   ]
  },
  {
   "cell_type": "code",
   "execution_count": 11,
   "id": "a3418d32-2f7c-4e4c-9fca-6dfd56a29ef6",
   "metadata": {},
   "outputs": [],
   "source": [
    "text = \"\"\"\n",
    "The interviewer interviews the president in an interview\n",
    "\"\"\"\n",
    "ps = PorterStemmer()"
   ]
  },
  {
   "cell_type": "code",
   "execution_count": 12,
   "id": "210f5d65-da08-4308-afde-2f164985d99c",
   "metadata": {},
   "outputs": [
    {
     "data": {
      "text/plain": [
       "['The',\n",
       " 'interviewer',\n",
       " 'interviews',\n",
       " 'the',\n",
       " 'president',\n",
       " 'in',\n",
       " 'an',\n",
       " 'interview']"
      ]
     },
     "execution_count": 12,
     "metadata": {},
     "output_type": "execute_result"
    }
   ],
   "source": [
    "words = word_tokenize(text)\n",
    "words"
   ]
  },
  {
   "cell_type": "code",
   "execution_count": 17,
   "id": "46e81695-c56f-4673-b698-ab3b816f2652",
   "metadata": {},
   "outputs": [
    {
     "data": {
      "text/plain": [
       "['the', 'interview', 'interview', 'the', 'presid', 'in', 'an', 'interview']"
      ]
     },
     "execution_count": 17,
     "metadata": {},
     "output_type": "execute_result"
    }
   ],
   "source": [
    "words = [ps.stem(w) for w in words]\n",
    "words"
   ]
  }
 ],
 "metadata": {
  "kernelspec": {
   "display_name": "Python 3 (ipykernel)",
   "language": "python",
   "name": "python3"
  },
  "language_info": {
   "codemirror_mode": {
    "name": "ipython",
    "version": 3
   },
   "file_extension": ".py",
   "mimetype": "text/x-python",
   "name": "python",
   "nbconvert_exporter": "python",
   "pygments_lexer": "ipython3",
   "version": "3.13.5"
  }
 },
 "nbformat": 4,
 "nbformat_minor": 5
}
