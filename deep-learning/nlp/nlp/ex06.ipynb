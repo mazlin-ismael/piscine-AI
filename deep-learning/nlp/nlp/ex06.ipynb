{
 "cells": [
  {
   "cell_type": "code",
   "execution_count": 115,
   "id": "2ac454f9-c42a-4978-95ab-9b6675a0188c",
   "metadata": {},
   "outputs": [],
   "source": [
    "import re\n",
    "import string\n",
    "from nltk.tokenize import word_tokenize\n",
    "from nltk.corpus import stopwords\n",
    "from nltk.stem import PorterStemmer"
   ]
  },
  {
   "cell_type": "code",
   "execution_count": 116,
   "id": "b9b8d1c8-b963-4b22-95fc-392553fcd836",
   "metadata": {},
   "outputs": [],
   "source": [
    "text = \"\"\"\n",
    "01 Edu System presents an innovative curriculum in software engineering and programming. \n",
    "With a renowned industry-leading reputation, \n",
    "the curriculum has been rigorously designed for learning skills of the digital world and technology industry. \n",
    "Taking a different approach than the classic teaching methods today, \n",
    "learning is facilitated through a collective and co-creative process in a professional environment.\n",
    "\"\"\""
   ]
  },
  {
   "cell_type": "code",
   "execution_count": 117,
   "id": "d245e7c3-b617-4e02-8d89-10c03253f102",
   "metadata": {},
   "outputs": [],
   "source": [
    "def preprocessing(text):\n",
    "    text = text.lower()\n",
    "    text = re.sub(f\"[{re.escape(string.punctuation)}]\", \"\", text)\n",
    "    text_token = word_tokenize(text)\n",
    "\n",
    "    stop_words = set(stopwords.words(\"english\"))\n",
    "    text_token = [w for w in text_token if not w in stop_words]\n",
    "\n",
    "    ps = PorterStemmer()\n",
    "    text_token = [ps.stem(w) for w in text_token]\n",
    "    return text_token"
   ]
  },
  {
   "cell_type": "code",
   "execution_count": 118,
   "id": "1d1f9767-1bc4-454a-b862-ab830b838bcc",
   "metadata": {},
   "outputs": [
    {
     "data": {
      "text/plain": [
       "['01',\n",
       " 'edu',\n",
       " 'system',\n",
       " 'present',\n",
       " 'innov',\n",
       " 'curriculum',\n",
       " 'softwar',\n",
       " 'engin',\n",
       " 'program',\n",
       " 'renown',\n",
       " 'industrylead',\n",
       " 'reput',\n",
       " 'curriculum',\n",
       " 'rigor',\n",
       " 'design',\n",
       " 'learn',\n",
       " 'skill',\n",
       " 'digit',\n",
       " 'world',\n",
       " 'technolog',\n",
       " 'industri',\n",
       " 'take',\n",
       " 'differ',\n",
       " 'approach',\n",
       " 'classic',\n",
       " 'teach',\n",
       " 'method',\n",
       " 'today',\n",
       " 'learn',\n",
       " 'facilit',\n",
       " 'collect',\n",
       " 'cocr',\n",
       " 'process',\n",
       " 'profession',\n",
       " 'environ']"
      ]
     },
     "execution_count": 118,
     "metadata": {},
     "output_type": "execute_result"
    }
   ],
   "source": [
    "preprocessing(text)"
   ]
  }
 ],
 "metadata": {
  "kernelspec": {
   "display_name": "Python 3 (ipykernel)",
   "language": "python",
   "name": "python3"
  },
  "language_info": {
   "codemirror_mode": {
    "name": "ipython",
    "version": 3
   },
   "file_extension": ".py",
   "mimetype": "text/x-python",
   "name": "python",
   "nbconvert_exporter": "python",
   "pygments_lexer": "ipython3",
   "version": "3.13.5"
  }
 },
 "nbformat": 4,
 "nbformat_minor": 5
}
