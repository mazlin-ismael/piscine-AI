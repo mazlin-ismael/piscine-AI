{
 "cells": [
  {
   "cell_type": "code",
   "execution_count": 31,
   "id": "e928d7b0-c257-4b7b-9b5b-17d9946e58c3",
   "metadata": {},
   "outputs": [],
   "source": [
    "import string"
   ]
  },
  {
   "cell_type": "code",
   "execution_count": 32,
   "id": "5cad2df6-9e07-45a3-9cda-a623319a6c3b",
   "metadata": {},
   "outputs": [
    {
     "data": {
      "text/plain": [
       "'Remove this from  the sentence'"
      ]
     },
     "execution_count": 32,
     "metadata": {},
     "output_type": "execute_result"
    }
   ],
   "source": [
    "text = \"Remove, this from .? the sentence !!!! !\\\"#&'()*+,-./:;<=>_\"\n",
    "re.sub(f\"[{re.escape(string.punctuation)}]\", \"\", text).strip()"
   ]
  }
 ],
 "metadata": {
  "kernelspec": {
   "display_name": "Python 3 (ipykernel)",
   "language": "python",
   "name": "python3"
  },
  "language_info": {
   "codemirror_mode": {
    "name": "ipython",
    "version": 3
   },
   "file_extension": ".py",
   "mimetype": "text/x-python",
   "name": "python",
   "nbconvert_exporter": "python",
   "pygments_lexer": "ipython3",
   "version": "3.13.5"
  }
 },
 "nbformat": 4,
 "nbformat_minor": 5
}
