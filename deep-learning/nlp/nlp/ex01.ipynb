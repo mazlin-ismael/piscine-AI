{
 "cells": [
  {
   "cell_type": "code",
   "execution_count": 26,
   "id": "2df76219-4a55-4387-9eb5-451dee702986",
   "metadata": {},
   "outputs": [],
   "source": [
    "import pandas as pd"
   ]
  },
  {
   "cell_type": "code",
   "execution_count": 27,
   "id": "45c06434-c347-40b3-a2d5-b331d634cc04",
   "metadata": {},
   "outputs": [],
   "source": [
    "list_ = [\"This is my first NLP exercise\", \"wtf!!!!!\"]\n",
    "series_data = pd.Series(list_, name='text')"
   ]
  },
  {
   "cell_type": "code",
   "execution_count": 28,
   "id": "755308cd-4866-420f-942e-6952acfae6a0",
   "metadata": {},
   "outputs": [
    {
     "data": {
      "text/plain": [
       "0    this is my first nlp exercise\n",
       "1                         wtf!!!!!\n",
       "Name: text, dtype: object"
      ]
     },
     "execution_count": 28,
     "metadata": {},
     "output_type": "execute_result"
    }
   ],
   "source": [
    "series_data.str.lower()"
   ]
  },
  {
   "cell_type": "code",
   "execution_count": 29,
   "id": "d6f391dd-78ca-46c3-8617-ce5f92c5f626",
   "metadata": {},
   "outputs": [
    {
     "data": {
      "text/plain": [
       "0    THIS IS MY FIRST NLP EXERCISE\n",
       "1                         WTF!!!!!\n",
       "Name: text, dtype: object"
      ]
     },
     "execution_count": 29,
     "metadata": {},
     "output_type": "execute_result"
    }
   ],
   "source": [
    "series_data.str.upper()"
   ]
  }
 ],
 "metadata": {
  "kernelspec": {
   "display_name": "Python 3 (ipykernel)",
   "language": "python",
   "name": "python3"
  },
  "language_info": {
   "codemirror_mode": {
    "name": "ipython",
    "version": 3
   },
   "file_extension": ".py",
   "mimetype": "text/x-python",
   "name": "python",
   "nbconvert_exporter": "python",
   "pygments_lexer": "ipython3",
   "version": "3.13.5"
  }
 },
 "nbformat": 4,
 "nbformat_minor": 5
}
