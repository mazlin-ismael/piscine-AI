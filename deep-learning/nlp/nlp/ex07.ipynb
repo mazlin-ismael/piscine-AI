{
 "cells": [
  {
   "cell_type": "code",
   "execution_count": 189,
   "id": "580a60e0-9416-4c36-9e95-f8bdade33f4d",
   "metadata": {},
   "outputs": [],
   "source": [
    "import re\n",
    "import pandas as pd\n",
    "import string\n",
    "from nltk.tokenize import word_tokenize\n",
    "from nltk.corpus import stopwords\n",
    "from nltk.stem import PorterStemmer\n",
    "from sklearn.feature_extraction.text import CountVectorizer\n",
    "from pandas import DataFrame"
   ]
  },
  {
   "cell_type": "code",
   "execution_count": 190,
   "id": "27def7ca-485c-499f-87a9-c8588565e016",
   "metadata": {},
   "outputs": [],
   "source": [
    "def preprocessing(text):\n",
    "    text = text.lower()\n",
    "    text = re.sub(f\"[{re.escape(string.punctuation)}]\", \"\", text)\n",
    "    text_token = word_tokenize(text)\n",
    "\n",
    "    stop_words = set(stopwords.words(\"english\"))\n",
    "    text_token = [w for w in text_token if not w in stop_words]\n",
    "\n",
    "    ps = PorterStemmer()\n",
    "    text_token = [ps.stem(w) for w in text_token]\n",
    "    return text_token"
   ]
  },
  {
   "cell_type": "code",
   "execution_count": 191,
   "id": "63a60dc1-625e-4d65-9551-e2d6735e0c27",
   "metadata": {},
   "outputs": [],
   "source": [
    "with open(\"tweets_train.txt\", \"r\") as f:\n",
    "    text = f.readlines()\n",
    "# text -> slice of lines"
   ]
  },
  {
   "cell_type": "code",
   "execution_count": 192,
   "id": "84e63266-913c-4428-a69c-d5b5b0f36e98",
   "metadata": {},
   "outputs": [],
   "source": [
    "corpus = [preprocessing(line) for line in text]\n",
    "# corpus -> double slice of words preprocessed"
   ]
  },
  {
   "cell_type": "code",
   "execution_count": 193,
   "id": "d5ef6eb4-87ba-47ea-af10-b4c5c46c4b3f",
   "metadata": {},
   "outputs": [],
   "source": [
    "emotions = []\n",
    "texts_for_vectorizer = []\n",
    "\n",
    "for tokens in corpus:\n",
    "    emotions.append(tokens[0])\n",
    "    texts_for_vectorizer.append(\" \".join(tokens[1:]))\n",
    "\n",
    "# corpus -> slice of tweets words preprocessed"
   ]
  },
  {
   "cell_type": "code",
   "execution_count": 194,
   "id": "89971a96-cb62-40e3-8ec5-b8d648f04c9f",
   "metadata": {},
   "outputs": [
    {
     "data": {
      "text/plain": [
       "<Compressed Sparse Row sparse matrix of dtype 'int64'\n",
       "\twith 37333 stored elements and shape (6588, 500)>"
      ]
     },
     "execution_count": 194,
     "metadata": {},
     "output_type": "execute_result"
    }
   ],
   "source": [
    "vectorizer = CountVectorizer(max_features=500)\n",
    "X = vectorizer.fit_transform(texts_for_vectorizer)\n",
    "X"
   ]
  },
  {
   "cell_type": "code",
   "execution_count": 195,
   "id": "9c43ebc6-3dda-4e09-a03a-6cbe43f2a12e",
   "metadata": {},
   "outputs": [
    {
     "data": {
      "text/plain": [
       "500"
      ]
     },
     "execution_count": 195,
     "metadata": {},
     "output_type": "execute_result"
    }
   ],
   "source": [
    "features_names = vectorizer.get_feature_names_out()\n",
    "len(features_names)"
   ]
  },
  {
   "cell_type": "code",
   "execution_count": 196,
   "id": "5e74a4a3-d3d0-40ef-bf29-936387a48579",
   "metadata": {},
   "outputs": [
    {
     "name": "stdout",
     "output_type": "stream",
     "text": [
      "|    |   someth |   son |   song |\n",
      "|---:|---------:|------:|-------:|\n",
      "|  0 |        0 |     0 |      0 |\n",
      "|  1 |        0 |     0 |      0 |\n",
      "|  2 |        0 |     0 |      0 |\n"
     ]
    }
   ],
   "source": [
    "count_vectorized_df = DataFrame.sparse.from_spmatrix(X, columns=features_names)\n",
    "print(count_vecotrized_df.iloc[:3,400:403].to_markdown())"
   ]
  },
  {
   "cell_type": "code",
   "execution_count": 197,
   "id": "ec9588cb-b02d-4359-b224-fdbe20dc6d28",
   "metadata": {},
   "outputs": [
    {
     "data": {
      "text/plain": [
       "cant    1\n",
       "deal    1\n",
       "end     1\n",
       "find    1\n",
       "keep    1\n",
       "like    1\n",
       "may     1\n",
       "say     1\n",
       "talk    1\n",
       "Name: 3, dtype: Sparse[int64, 0]"
      ]
     },
     "execution_count": 197,
     "metadata": {},
     "output_type": "execute_result"
    }
   ],
   "source": [
    "row_3 = count_vectorized_df.iloc[3]\n",
    "row_3[row_3 != 0]"
   ]
  },
  {
   "cell_type": "code",
   "execution_count": 198,
   "id": "f5bfe60a-a09c-4f2e-9b7c-4658a26cc80b",
   "metadata": {},
   "outputs": [
    {
     "data": {
      "text/plain": [
       "tomorrow    1126\n",
       "go           733\n",
       "day          667\n",
       "night        641\n",
       "may          533\n",
       "tonight      501\n",
       "see          439\n",
       "time         429\n",
       "im           422\n",
       "get          398\n",
       "today        389\n",
       "game         382\n",
       "saturday     379\n",
       "friday       375\n",
       "sunday       368\n",
       "dtype: Sparse[int64, 0]"
      ]
     },
     "execution_count": 198,
     "metadata": {},
     "output_type": "execute_result"
    }
   ],
   "source": [
    "count_vectorized_df.sum().sort_values(ascending=False).head(15)"
   ]
  },
  {
   "cell_type": "code",
   "execution_count": 199,
   "id": "52a0b237-ad81-4003-9292-a604cdc8f280",
   "metadata": {},
   "outputs": [
    {
     "name": "stdout",
     "output_type": "stream",
     "text": [
      "|     |   your |   label |\n",
      "|----:|-------:|--------:|\n",
      "| 350 |      0 |       1 |\n",
      "| 351 |      1 |      -1 |\n",
      "| 352 |      0 |       1 |\n",
      "| 353 |      0 |       0 |\n"
     ]
    }
   ],
   "source": [
    "emotions = pd.Series(emotions)\n",
    "emotions[emotions == \"posit\"] = 1\n",
    "emotions[emotions == \"neg\"] = -1\n",
    "emotions[emotions == \"neutral\"] = 0\n",
    "count_vectorized_df[\"label\"] = emotions\n",
    "print(count_vectorized_df.iloc[350:354,499:501].to_markdown())"
   ]
  }
 ],
 "metadata": {
  "kernelspec": {
   "display_name": "Python 3 (ipykernel)",
   "language": "python",
   "name": "python3"
  },
  "language_info": {
   "codemirror_mode": {
    "name": "ipython",
    "version": 3
   },
   "file_extension": ".py",
   "mimetype": "text/x-python",
   "name": "python",
   "nbconvert_exporter": "python",
   "pygments_lexer": "ipython3",
   "version": "3.13.5"
  }
 },
 "nbformat": 4,
 "nbformat_minor": 5
}
