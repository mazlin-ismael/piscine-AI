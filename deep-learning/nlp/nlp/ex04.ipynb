{
 "cells": [
  {
   "cell_type": "code",
   "execution_count": 21,
   "id": "e45ab4b2-9345-485e-acfb-7f85f6a10ea5",
   "metadata": {},
   "outputs": [],
   "source": [
    "from nltk.corpus import stopwords\n",
    "from nltk.tokenize import word_tokenize"
   ]
  },
  {
   "cell_type": "code",
   "execution_count": 22,
   "id": "3276914b-6017-4226-a888-c0703dbefccd",
   "metadata": {},
   "outputs": [],
   "source": [
    "text = \"\"\"\n",
    "The goal of this exercise is to learn to remove stop words with NLTK.  Stop words usually refers to the most common words in a language.\n",
    "\"\"\"\n",
    "stop_words = set(stopwords.words(\"english\"))"
   ]
  },
  {
   "cell_type": "code",
   "execution_count": 23,
   "id": "0adb74b2-8a72-4e81-8782-be712a0172a1",
   "metadata": {},
   "outputs": [
    {
     "data": {
      "text/plain": [
       "['The',\n",
       " 'goal',\n",
       " 'of',\n",
       " 'this',\n",
       " 'exercise',\n",
       " 'is',\n",
       " 'to',\n",
       " 'learn',\n",
       " 'to',\n",
       " 'remove',\n",
       " 'stop',\n",
       " 'words',\n",
       " 'with',\n",
       " 'NLTK',\n",
       " '.',\n",
       " 'Stop',\n",
       " 'words',\n",
       " 'usually',\n",
       " 'refers',\n",
       " 'to',\n",
       " 'the',\n",
       " 'most',\n",
       " 'common',\n",
       " 'words',\n",
       " 'in',\n",
       " 'a',\n",
       " 'language',\n",
       " '.']"
      ]
     },
     "execution_count": 23,
     "metadata": {},
     "output_type": "execute_result"
    }
   ],
   "source": [
    "word_tokens = word_tokenize(text)\n",
    "word_tokens"
   ]
  },
  {
   "cell_type": "code",
   "execution_count": 24,
   "id": "86537913-4f78-40b4-995f-6cc4a6503f79",
   "metadata": {},
   "outputs": [
    {
     "data": {
      "text/plain": [
       "['goal',\n",
       " 'exercise',\n",
       " 'learn',\n",
       " 'remove',\n",
       " 'stop',\n",
       " 'words',\n",
       " 'NLTK',\n",
       " '.',\n",
       " 'Stop',\n",
       " 'words',\n",
       " 'usually',\n",
       " 'refers',\n",
       " 'common',\n",
       " 'words',\n",
       " 'language',\n",
       " '.']"
      ]
     },
     "execution_count": 24,
     "metadata": {},
     "output_type": "execute_result"
    }
   ],
   "source": [
    "[w for w in word_tokens if not w.lower() in stop_words]"
   ]
  },
  {
   "cell_type": "code",
   "execution_count": 25,
   "id": "572b490a-bc6b-4ccc-a6bd-41e846a6b84c",
   "metadata": {},
   "outputs": [
    {
     "data": {
      "text/plain": [
       "['The',\n",
       " 'goal',\n",
       " 'exercise',\n",
       " 'learn',\n",
       " 'remove',\n",
       " 'stop',\n",
       " 'words',\n",
       " 'NLTK',\n",
       " '.',\n",
       " 'Stop',\n",
       " 'words',\n",
       " 'usually',\n",
       " 'refers',\n",
       " 'common',\n",
       " 'words',\n",
       " 'language',\n",
       " '.']"
      ]
     },
     "execution_count": 25,
     "metadata": {},
     "output_type": "execute_result"
    }
   ],
   "source": [
    "[w for w in word_tokens if not w in stop_words]"
   ]
  }
 ],
 "metadata": {
  "kernelspec": {
   "display_name": "Python 3 (ipykernel)",
   "language": "python",
   "name": "python3"
  },
  "language_info": {
   "codemirror_mode": {
    "name": "ipython",
    "version": 3
   },
   "file_extension": ".py",
   "mimetype": "text/x-python",
   "name": "python",
   "nbconvert_exporter": "python",
   "pygments_lexer": "ipython3",
   "version": "3.13.5"
  }
 },
 "nbformat": 4,
 "nbformat_minor": 5
}
