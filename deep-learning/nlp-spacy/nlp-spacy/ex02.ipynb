{
 "cells": [
  {
   "cell_type": "code",
   "execution_count": 23,
   "id": "6dffd7fa-e2ec-40f7-8eaa-110d63948567",
   "metadata": {},
   "outputs": [],
   "source": [
    "import spacy\n",
    "nlp = spacy.load(\"en_core_web_sm\")"
   ]
  },
  {
   "cell_type": "code",
   "execution_count": 24,
   "id": "f156a5a2-7a30-4860-ad81-84671b5ec58f",
   "metadata": {},
   "outputs": [],
   "source": [
    "text = \"Tokenize this sentence. And this one too.\""
   ]
  },
  {
   "cell_type": "code",
   "execution_count": 25,
   "id": "6edac944-bd20-4858-8dcc-e5b659147dcd",
   "metadata": {},
   "outputs": [
    {
     "data": {
      "text/plain": [
       "Tokenize this sentence. And this one too."
      ]
     },
     "execution_count": 25,
     "metadata": {},
     "output_type": "execute_result"
    }
   ],
   "source": [
    "doc = nlp(text)\n",
    "doc"
   ]
  },
  {
   "cell_type": "code",
   "execution_count": 27,
   "id": "2d4c6670-de61-472e-ae2c-b66da125bdcf",
   "metadata": {},
   "outputs": [
    {
     "name": "stdout",
     "output_type": "stream",
     "text": [
      "Tokenize\n",
      "this\n",
      "sentence\n",
      ".\n",
      "And\n",
      "this\n",
      "one\n",
      "too\n",
      ".\n"
     ]
    }
   ],
   "source": [
    "for token in doc:\n",
    "    print(token)"
   ]
  }
 ],
 "metadata": {
  "kernelspec": {
   "display_name": "Python 3 (ipykernel)",
   "language": "python",
   "name": "python3"
  },
  "language_info": {
   "codemirror_mode": {
    "name": "ipython",
    "version": 3
   },
   "file_extension": ".py",
   "mimetype": "text/x-python",
   "name": "python",
   "nbconvert_exporter": "python",
   "pygments_lexer": "ipython3",
   "version": "3.10.12"
  }
 },
 "nbformat": 4,
 "nbformat_minor": 5
}
