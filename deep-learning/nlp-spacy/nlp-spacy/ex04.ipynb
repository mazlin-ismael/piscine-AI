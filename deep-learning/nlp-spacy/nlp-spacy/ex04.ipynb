{
 "cells": [
  {
   "cell_type": "code",
   "execution_count": 1,
   "id": "c48aade9-97f3-4cd1-b64c-0873946ae872",
   "metadata": {},
   "outputs": [],
   "source": [
    "import spacy"
   ]
  },
  {
   "cell_type": "code",
   "execution_count": 2,
   "id": "f5936ec5-5982-4ee7-9b6d-feab25b0f881",
   "metadata": {},
   "outputs": [],
   "source": [
    "nlp = spacy.load(\"en_core_web_sm\")"
   ]
  },
  {
   "cell_type": "code",
   "execution_count": 3,
   "id": "810dc3db-13a0-4243-9afd-2b1c999cc096",
   "metadata": {},
   "outputs": [],
   "source": [
    "sentence_1 = \"I want to buy shoes\"\n",
    "sentence_2 = \"I would love to purchase running shoes\"\n",
    "sentence_3 = \"I am in my room\""
   ]
  },
  {
   "cell_type": "code",
   "execution_count": 4,
   "id": "c9405501-f9d2-4c85-96d4-1f9d6ed59229",
   "metadata": {},
   "outputs": [],
   "source": [
    "doc_1 = nlp(sentence_1)\n",
    "doc_2 = nlp(sentence_2)\n",
    "doc_3 = nlp(sentence_3)"
   ]
  },
  {
   "cell_type": "code",
   "execution_count": 5,
   "id": "9ded5f6f-24dd-4ec6-95a0-a57cae6b5a22",
   "metadata": {},
   "outputs": [
    {
     "name": "stderr",
     "output_type": "stream",
     "text": [
      "/tmp/ipykernel_23396/780733307.py:1: UserWarning: [W007] The model you're using has no word vectors loaded, so the result of the Doc.similarity method will be based on the tagger, parser and NER, which may not give useful similarity judgements. This may happen if you're using one of the small models, e.g. `en_core_web_sm`, which don't ship with word vectors and only use context-sensitive tensors. You can always add your own word vectors, or use one of the larger models instead if available.\n",
      "  doc_1.similarity(doc_2)\n"
     ]
    },
    {
     "data": {
      "text/plain": [
       "0.659154332813899"
      ]
     },
     "execution_count": 5,
     "metadata": {},
     "output_type": "execute_result"
    }
   ],
   "source": [
    "doc_1.similarity(doc_2)"
   ]
  },
  {
   "cell_type": "code",
   "execution_count": 6,
   "id": "70d456e0-f6fc-4279-8d48-6a61d7e2b34d",
   "metadata": {},
   "outputs": [
    {
     "name": "stderr",
     "output_type": "stream",
     "text": [
      "/tmp/ipykernel_23396/1515079192.py:1: UserWarning: [W007] The model you're using has no word vectors loaded, so the result of the Doc.similarity method will be based on the tagger, parser and NER, which may not give useful similarity judgements. This may happen if you're using one of the small models, e.g. `en_core_web_sm`, which don't ship with word vectors and only use context-sensitive tensors. You can always add your own word vectors, or use one of the larger models instead if available.\n",
      "  doc_1.similarity(doc_3)\n"
     ]
    },
    {
     "data": {
      "text/plain": [
       "0.4167052986706153"
      ]
     },
     "execution_count": 6,
     "metadata": {},
     "output_type": "execute_result"
    }
   ],
   "source": [
    "doc_1.similarity(doc_3)"
   ]
  },
  {
   "cell_type": "code",
   "execution_count": 7,
   "id": "d4160301-4555-4ab6-b194-5a59fd7146fe",
   "metadata": {},
   "outputs": [
    {
     "name": "stderr",
     "output_type": "stream",
     "text": [
      "/tmp/ipykernel_23396/345820301.py:1: UserWarning: [W007] The model you're using has no word vectors loaded, so the result of the Doc.similarity method will be based on the tagger, parser and NER, which may not give useful similarity judgements. This may happen if you're using one of the small models, e.g. `en_core_web_sm`, which don't ship with word vectors and only use context-sensitive tensors. You can always add your own word vectors, or use one of the larger models instead if available.\n",
      "  doc_2.similarity(doc_3)\n"
     ]
    },
    {
     "data": {
      "text/plain": [
       "0.28961351696950594"
      ]
     },
     "execution_count": 7,
     "metadata": {},
     "output_type": "execute_result"
    }
   ],
   "source": [
    "doc_2.similarity(doc_3)"
   ]
  }
 ],
 "metadata": {
  "kernelspec": {
   "display_name": "Python 3 (ipykernel)",
   "language": "python",
   "name": "python3"
  },
  "language_info": {
   "codemirror_mode": {
    "name": "ipython",
    "version": 3
   },
   "file_extension": ".py",
   "mimetype": "text/x-python",
   "name": "python",
   "nbconvert_exporter": "python",
   "pygments_lexer": "ipython3",
   "version": "3.10.12"
  }
 },
 "nbformat": 4,
 "nbformat_minor": 5
}
