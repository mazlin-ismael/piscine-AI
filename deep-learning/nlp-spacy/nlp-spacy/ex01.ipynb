{
 "cells": [
  {
   "cell_type": "code",
   "execution_count": 27,
   "id": "c5e43f13-fc12-4691-a928-22e6975e778b",
   "metadata": {},
   "outputs": [],
   "source": [
    "import spacy\n",
    "import numpy as  np"
   ]
  },
  {
   "cell_type": "code",
   "execution_count": 28,
   "id": "d39aa336-bf99-4f83-bee3-7d7f821a5312",
   "metadata": {},
   "outputs": [],
   "source": [
    "nlp = spacy.load(\"en_core_web_sm\")"
   ]
  },
  {
   "cell_type": "code",
   "execution_count": 29,
   "id": "b419b64e-346f-4c03-921c-f17d9aab0d9d",
   "metadata": {},
   "outputs": [
    {
     "data": {
      "text/plain": [
       "array([ 1.7682083 ,  0.54457814, -0.48503995, -0.82677835, -0.945333  ,\n",
       "        0.8938823 , -0.35767108,  0.6092755 ,  0.42769727, -0.7061568 ,\n",
       "       -0.00258347, -0.07088287,  1.0688306 ,  0.01255074, -0.11640874,\n",
       "        0.1564216 ,  0.37927714,  0.777846  , -0.11644363, -0.03225929,\n",
       "       -0.04054293, -0.3463465 ,  1.6183215 ,  1.3975776 ,  1.0968746 ,\n",
       "       -0.00704554, -0.04246876, -1.1536672 ,  0.60532945,  0.44007325,\n",
       "       -0.28706354, -0.27333498, -0.5332476 , -0.08987916, -0.57630956,\n",
       "        1.1432998 , -0.40375084,  0.5083992 ,  0.16661195, -0.4139    ,\n",
       "        0.1444621 , -0.13820226, -0.812393  , -0.301462  , -0.44916254,\n",
       "       -0.02391624,  0.3180068 ,  0.37378308, -0.5977248 ,  0.5034655 ,\n",
       "       -0.03908229, -1.4959557 , -1.3186727 , -1.1091076 , -0.84866357,\n",
       "       -0.5701883 , -1.1343402 , -1.6679733 , -0.21453598, -0.51802254,\n",
       "        0.05893946, -0.61753404,  0.9619887 ,  0.06488965, -0.58256173,\n",
       "       -0.42170793, -0.08428031,  0.08168191, -0.38734993, -1.0991777 ,\n",
       "        0.43118465,  0.09417629,  0.12575872,  0.3814839 , -0.75770515,\n",
       "        0.30749285,  0.4363886 ,  0.04747474, -1.074202  ,  1.9827597 ,\n",
       "        0.04338115, -0.70678365, -0.23043641,  0.4749074 ,  0.57204056,\n",
       "        0.86434335, -0.10310288,  0.6485698 , -1.3478885 ,  0.57172203,\n",
       "       -0.7599277 ,  0.05037877,  0.50149214,  0.6956993 ,  0.9201436 ,\n",
       "        0.11208571], dtype=float32)"
      ]
     },
     "execution_count": 29,
     "metadata": {},
     "output_type": "execute_result"
    }
   ],
   "source": [
    "car_vector = nlp(\"car\").vector\n",
    "car_vector"
   ]
  },
  {
   "cell_type": "code",
   "execution_count": 30,
   "id": "1cb47b04-237f-4d42-a504-82ce041ea966",
   "metadata": {},
   "outputs": [
    {
     "data": {
      "text/plain": [
       "(12494875, 4194304)"
      ]
     },
     "execution_count": 30,
     "metadata": {},
     "output_type": "execute_result"
    }
   ],
   "source": [
    "car_vector[:20].sum().as_integer_ratio()"
   ]
  }
 ],
 "metadata": {
  "kernelspec": {
   "display_name": "Python 3 (ipykernel)",
   "language": "python",
   "name": "python3"
  },
  "language_info": {
   "codemirror_mode": {
    "name": "ipython",
    "version": 3
   },
   "file_extension": ".py",
   "mimetype": "text/x-python",
   "name": "python",
   "nbconvert_exporter": "python",
   "pygments_lexer": "ipython3",
   "version": "3.10.12"
  }
 },
 "nbformat": 4,
 "nbformat_minor": 5
}
