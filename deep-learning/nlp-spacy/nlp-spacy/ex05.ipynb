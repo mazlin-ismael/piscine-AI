{
 "cells": [
  {
   "cell_type": "code",
   "execution_count": 4,
   "id": "e4519b89-59d7-4ced-a5ec-568690010ca3",
   "metadata": {},
   "outputs": [],
   "source": [
    "import spacy"
   ]
  },
  {
   "cell_type": "code",
   "execution_count": 5,
   "id": "20e5c366-22ba-4511-bfa1-8bac1fcb82fe",
   "metadata": {},
   "outputs": [],
   "source": [
    "nlp = spacy.load('en_core_web_sm')"
   ]
  },
  {
   "cell_type": "code",
   "execution_count": 6,
   "id": "4f94754e-c122-4984-ac12-aee99e02bdd4",
   "metadata": {},
   "outputs": [],
   "source": [
    "text = \"\"\"\n",
    "Apple Inc. is an American multinational technology company headquartered in Cupertino, California, \n",
    "that designs, develops, and sells consumer electronics, computer software, and online services. \n",
    "It is considered one of the Big Five companies in the U.S. \n",
    "information technology industry, along with Amazon, Google, Microsoft, and Facebook.\n",
    "Apple was founded by Steve Jobs, Steve Wozniak, and Ronald Wayne in April 1976 to develop and sell Wozniak's Apple I personal computer, \n",
    "though Wayne sold his share back within 12 days. It was incorporated as Apple Computer, Inc., in January 1977, \n",
    "and sales of its computers, including the Apple I and Apple II, grew quickly.\n",
    "\"\"\""
   ]
  },
  {
   "cell_type": "code",
   "execution_count": 7,
   "id": "d1a6f5db-c543-405d-9cdf-12d2fa2f4f17",
   "metadata": {},
   "outputs": [],
   "source": [
    "doc = nlp(text)"
   ]
  },
  {
   "cell_type": "code",
   "execution_count": 11,
   "id": "06e8b408-96fe-4d9c-a14e-fdec35be6687",
   "metadata": {},
   "outputs": [
    {
     "name": "stdout",
     "output_type": "stream",
     "text": [
      "ORG  |  Apple Inc.\n",
      "NORP  |  American\n",
      "GPE  |  Cupertino\n",
      "GPE  |  California\n",
      "CARDINAL  |  Five\n",
      "GPE  |  U.S.\n",
      "ORG  |  Amazon\n",
      "ORG  |  Google\n",
      "ORG  |  Microsoft\n",
      "ORG  |  Facebook\n",
      "ORG  |  Apple\n",
      "PERSON  |  Steve Jobs\n",
      "PERSON  |  Steve Wozniak\n",
      "PERSON  |  Ronald Wayne\n",
      "DATE  |  April 1976\n",
      "PERSON  |  Wozniak\n",
      "ORG  |  Wayne\n",
      "DATE  |  12 days\n",
      "ORG  |  Apple Computer, Inc.\n",
      "DATE  |  January 1977\n",
      "ORG  |  the Apple I and Apple II\n"
     ]
    }
   ],
   "source": [
    "for entity in doc.ents:\n",
    "    print(entity.label_, ' | ', entity.text)"
   ]
  },
  {
   "cell_type": "code",
   "execution_count": 22,
   "id": "561e06b0-79b6-4e56-a109-5e09009887c4",
   "metadata": {},
   "outputs": [],
   "source": [
    "text_1 = \"Paul eats an apple while watching a movie on his Apple device.\""
   ]
  },
  {
   "cell_type": "code",
   "execution_count": 23,
   "id": "a636dd21-5a37-407f-91fa-71a49107bef1",
   "metadata": {},
   "outputs": [],
   "source": [
    "doc_1 = nlp(text_1)"
   ]
  },
  {
   "cell_type": "code",
   "execution_count": 24,
   "id": "dac71193-135e-4f6a-8187-ddaca8c304f4",
   "metadata": {},
   "outputs": [
    {
     "name": "stdout",
     "output_type": "stream",
     "text": [
      "Paul | 0 | 4 | PERSON\n",
      "Apple | 49 | 54 | ORG\n"
     ]
    }
   ],
   "source": [
    "for ent in doc_1.ents:\n",
    "    print(ent, \"|\", ent.start_char, '|', ent.end_char, '|', ent.label_)"
   ]
  }
 ],
 "metadata": {
  "kernelspec": {
   "display_name": "Python 3 (ipykernel)",
   "language": "python",
   "name": "python3"
  },
  "language_info": {
   "codemirror_mode": {
    "name": "ipython",
    "version": 3
   },
   "file_extension": ".py",
   "mimetype": "text/x-python",
   "name": "python",
   "nbconvert_exporter": "python",
   "pygments_lexer": "ipython3",
   "version": "3.10.12"
  }
 },
 "nbformat": 4,
 "nbformat_minor": 5
}
