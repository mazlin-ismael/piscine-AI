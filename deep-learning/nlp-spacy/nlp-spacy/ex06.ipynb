{
 "cells": [
  {
   "cell_type": "code",
   "execution_count": 15,
   "id": "d842a0e9-f61c-4b77-84fe-3d073fb984f5",
   "metadata": {},
   "outputs": [],
   "source": [
    "import spacy"
   ]
  },
  {
   "cell_type": "code",
   "execution_count": 16,
   "id": "d234a063-3fa6-41be-8f79-277f32c4f392",
   "metadata": {},
   "outputs": [],
   "source": [
    "nlp = spacy.load(\"en_core_web_sm\")"
   ]
  },
  {
   "cell_type": "code",
   "execution_count": 17,
   "id": "12b7daa3-7898-4383-88e4-5d0dec0b9b9a",
   "metadata": {},
   "outputs": [],
   "source": [
    "with open(\"news_amazon.txt\") as f:\n",
    "    text = f.readlines()"
   ]
  },
  {
   "cell_type": "code",
   "execution_count": 32,
   "id": "3548ca7d-731c-4f01-88ed-f800ada3f073",
   "metadata": {},
   "outputs": [
    {
     "name": "stdout",
     "output_type": "stream",
     "text": [
      "INFO: Bezos PROPN NNP\n",
      "Sentence:  Amazon (AMZN) enters 2021 with plenty of big opportunities, but is losing its lauded Chief Executive Jeff Bezos, who announced his plan to step aside in the third quarter. Given that, is Amazon stock a buy?\n",
      "\n",
      "INFO: Bezos PROPN NNP\n",
      "Sentence:  Bezos will hand off his role as chief executive to Andy Jassy, the CEO of its cloud computing unit. He's not leaving, as Bezos will transition to the role of Executive Chairman and remain active. But one Wall Street analyst thinks the changing of the guard is further evidence of a pivotal shift in Amazon's long-term strategy that will alter the course of its business operations.\n",
      "\n",
      "INFO: Bezos PROPN NNP\n",
      "Sentence:  Bezos will hand off his role as chief executive to Andy Jassy, the CEO of its cloud computing unit. He's not leaving, as Bezos will transition to the role of Executive Chairman and remain active. But one Wall Street analyst thinks the changing of the guard is further evidence of a pivotal shift in Amazon's long-term strategy that will alter the course of its business operations.\n",
      "\n",
      "INFO: Bezos PROPN NNP\n",
      "Sentence:  \"When you look at our financial results, what you're actually seeing are the long-run cumulative results of invention,\" Bezos said in written remarks with the Amazon earnings release. \"Right now I see Amazon at its most inventive ever, making it an optimal time for this transition.\"\n",
      "\n"
     ]
    }
   ],
   "source": [
    "for sentence in text:\n",
    "    doc = nlp(sentence)\n",
    "    for token in doc:\n",
    "        if token.tag_ == \"NNP\" and token.text == \"Bezos\":\n",
    "            print(\"INFO: Bezos\", token.pos_, token.tag_)\n",
    "            print(\"Sentence: \", doc)"
   ]
  }
 ],
 "metadata": {
  "kernelspec": {
   "display_name": "Python 3 (ipykernel)",
   "language": "python",
   "name": "python3"
  },
  "language_info": {
   "codemirror_mode": {
    "name": "ipython",
    "version": 3
   },
   "file_extension": ".py",
   "mimetype": "text/x-python",
   "name": "python",
   "nbconvert_exporter": "python",
   "pygments_lexer": "ipython3",
   "version": "3.10.12"
  }
 },
 "nbformat": 4,
 "nbformat_minor": 5
}
